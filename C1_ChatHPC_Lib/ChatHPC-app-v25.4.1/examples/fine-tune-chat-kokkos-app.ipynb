{
 "cells": [
  {
   "cell_type": "markdown",
   "id": "cb256cbe",
   "metadata": {
    "papermill": {
     "duration": 0.015776,
     "end_time": "2025-02-23T06:21:30.841961",
     "exception": false,
     "start_time": "2025-02-23T06:21:30.826185",
     "status": "completed"
    },
    "tags": []
   },
   "source": [
    "# Fine-tunning ChatKokkos Example"
   ]
  },
  {
   "cell_type": "markdown",
   "id": "f9a75a66",
   "metadata": {
    "papermill": {
     "duration": 0.00637,
     "end_time": "2025-02-23T06:21:30.862760",
     "exception": false,
     "start_time": "2025-02-23T06:21:30.856390",
     "status": "completed"
    },
    "tags": []
   },
   "source": [
    "These are the steps taken to fine-tune ChatKokkos. This is based on the steps developed by Pedro at [Fine-Tuning CodeLLama for Kokkos\n",
    "](https://docs.google.com/document/d/1u_r9PKUYYV_n5vte4oHDeZiPjUa_hnCS-pqdoB8YmF4/edit?tab=t.0) and on the [Hugging Face PEFT Adaptor Training Guide](https://huggingface.co/docs/transformers/en/peft)."
   ]
  },
  {
   "cell_type": "code",
   "execution_count": 1,
   "id": "23a1b25c",
   "metadata": {
    "execution": {
     "iopub.execute_input": "2025-02-23T06:21:30.876924Z",
     "iopub.status.busy": "2025-02-23T06:21:30.876376Z",
     "iopub.status.idle": "2025-02-23T06:21:31.567202Z",
     "shell.execute_reply": "2025-02-23T06:21:31.565949Z"
    },
    "papermill": {
     "duration": 0.699703,
     "end_time": "2025-02-23T06:21:31.568774",
     "exception": false,
     "start_time": "2025-02-23T06:21:30.869071",
     "status": "completed"
    },
    "tags": []
   },
   "outputs": [],
   "source": [
    "# Save package state\n",
    "!pip freeze > requirements-lock.txt"
   ]
  },
  {
   "cell_type": "markdown",
   "id": "282d9435",
   "metadata": {
    "papermill": {
     "duration": 0.01389,
     "end_time": "2025-02-23T06:21:31.594922",
     "exception": false,
     "start_time": "2025-02-23T06:21:31.581032",
     "status": "completed"
    },
    "tags": []
   },
   "source": [
    "# Setup Logger"
   ]
  },
  {
   "cell_type": "code",
   "execution_count": 2,
   "id": "cfe1fded",
   "metadata": {
    "execution": {
     "iopub.execute_input": "2025-02-23T06:21:31.609426Z",
     "iopub.status.busy": "2025-02-23T06:21:31.609034Z",
     "iopub.status.idle": "2025-02-23T06:21:31.653988Z",
     "shell.execute_reply": "2025-02-23T06:21:31.653281Z"
    },
    "papermill": {
     "duration": 0.053594,
     "end_time": "2025-02-23T06:21:31.654916",
     "exception": false,
     "start_time": "2025-02-23T06:21:31.601322",
     "status": "completed"
    },
    "tags": []
   },
   "outputs": [
    {
     "data": {
      "text/plain": [
       "1"
      ]
     },
     "execution_count": 2,
     "metadata": {},
     "output_type": "execute_result"
    }
   ],
   "source": [
    "import sys\n",
    "\n",
    "from loguru import logger\n",
    "\n",
    "# Remove the default logger and add a new logger at INFO level.\n",
    "logger.remove()  # Remove the default handler.\n",
    "logger.add(sys.stderr, level=\"INFO\")"
   ]
  },
  {
   "cell_type": "markdown",
   "id": "2e6b2e23",
   "metadata": {
    "papermill": {
     "duration": 0.014073,
     "end_time": "2025-02-23T06:21:31.682826",
     "exception": false,
     "start_time": "2025-02-23T06:21:31.668753",
     "status": "completed"
    },
    "tags": []
   },
   "source": [
    "## Load Libraries"
   ]
  },
  {
   "cell_type": "code",
   "execution_count": 3,
   "id": "06164032",
   "metadata": {
    "execution": {
     "iopub.execute_input": "2025-02-23T06:21:31.704911Z",
     "iopub.status.busy": "2025-02-23T06:21:31.704522Z",
     "iopub.status.idle": "2025-02-23T06:21:36.663944Z",
     "shell.execute_reply": "2025-02-23T06:21:36.662995Z"
    },
    "papermill": {
     "duration": 4.968715,
     "end_time": "2025-02-23T06:21:36.665403",
     "exception": false,
     "start_time": "2025-02-23T06:21:31.696688",
     "status": "completed"
    },
    "tags": []
   },
   "outputs": [
    {
     "name": "stdout",
     "output_type": "stream",
     "text": [
      "Setting               Value\n",
      "--------------------  ---------------------------------------------------------------------------------------------------------------------------------------------------------------------------------------------------------------------------\n",
      "data_file             /home/7ry/Data/ellora/ChatKokkos-data/kokkos_dataset_before_reinforcement.json\n",
      "base_model_path       /auto/projects/ChatHPC/models/cache/meta-llama/CodeLlama-7b-hf\n",
      "finetuned_model_path  jupyter_app/peft_adapter\n",
      "merged_model_path     jupyter_app/merged_adapters\n",
      "training_output_dir   jupyter_app/kokkos-code-llama\n",
      "max_training_tokens   512\n",
      "max_response_tokens   600\n",
      "prompt_history_file   ~/.chathpc_history\n",
      "prompt_template_file\n",
      "prompt_template       You are a powerful LLM model for Kokkos called ChatKokkos created by ORNL. Your job is to answer questions about the Kokkos programming model. You are given a question and context regarding the Kokkos programming model.\n",
      "\n",
      "                      You must output the answer the question.\n",
      "\n",
      "                      ### Context:\n",
      "                      {{ context }}\n",
      "\n",
      "                      ### Question:\n",
      "                      {{ prompt }}\n",
      "\n",
      "                      ### Answer:\n",
      "                      {{ response }}\n",
      "use_wandb             False\n"
     ]
    }
   ],
   "source": [
    "import os\n",
    "\n",
    "from chathpc.app import App as ChatApp\n",
    "\n",
    "os.makedirs(\"./jupyter_app\", exist_ok=True)\n",
    "os.environ[\"CHATHPC_DATA_FILE\"] = \"/home/7ry/Data/ellora/ChatKokkos-data/kokkos_dataset_before_reinforcement.json\"\n",
    "os.environ[\"CHATHPC_FINETUNED_MODEL_PATH\"] = \"./jupyter_app/peft_adapter\"\n",
    "os.environ[\"CHATHPC_MERGED_MODEL_PATH\"] = \"./jupyter_app/merged_adapters\"\n",
    "os.environ[\"CHATHPC_TRAINING_OUTPUT_DIR\"] = \"./jupyter_app/kokkos-code-llama\"\n",
    "os.environ[\"CHATHPC_PROMPT_TEMPLATE\"] = (\n",
    "    \"You are a powerful LLM model for Kokkos called ChatKokkos created by ORNL. Your job is to answer questions about the Kokkos programming model. You are given a question and context regarding the Kokkos programming model.\\n\\nYou must output the answer the question.\\n\\n### Context:\\n{{ context }}\\n\\n### Question:\\n{{ question }}\\n\\n### Answer:\\n{{ answer }}\\n\\n\"\n",
    ")\n",
    "\n",
    "chat_app = ChatApp()\n",
    "\n",
    "# os.environ[\"CUDA_DEVICE_ORDER\"] = \"PCI_BUS_ID\"\n",
    "# os.environ[\"CUDA_VISIBLE_DEVICES\"] = \"1\"\n",
    "\n",
    "chat_app.print_config()"
   ]
  },
  {
   "cell_type": "markdown",
   "id": "e7323525",
   "metadata": {
    "papermill": {
     "duration": 0.006418,
     "end_time": "2025-02-23T06:21:36.686476",
     "exception": false,
     "start_time": "2025-02-23T06:21:36.680058",
     "status": "completed"
    },
    "tags": []
   },
   "source": [
    "## Load Dataset"
   ]
  },
  {
   "cell_type": "code",
   "execution_count": 4,
   "id": "444af7ce",
   "metadata": {
    "execution": {
     "iopub.execute_input": "2025-02-23T06:21:36.700534Z",
     "iopub.status.busy": "2025-02-23T06:21:36.700032Z",
     "iopub.status.idle": "2025-02-23T06:21:36.955194Z",
     "shell.execute_reply": "2025-02-23T06:21:36.954160Z"
    },
    "papermill": {
     "duration": 0.263568,
     "end_time": "2025-02-23T06:21:36.956569",
     "exception": false,
     "start_time": "2025-02-23T06:21:36.693001",
     "status": "completed"
    },
    "tags": []
   },
   "outputs": [
    {
     "name": "stderr",
     "output_type": "stream",
     "text": [
      "\u001b[32m2025-02-23 01:21:36.701\u001b[0m | \u001b[1mINFO    \u001b[0m | \u001b[36mchathpc.app.app\u001b[0m:\u001b[36mload_datasets\u001b[0m:\u001b[36m498\u001b[0m - \u001b[1mLoading the dataset from /home/7ry/Data/ellora/ChatKokkos-data/kokkos_dataset_before_reinforcement.json\u001b[0m\n"
     ]
    }
   ],
   "source": [
    "chat_app.load_datasets()"
   ]
  },
  {
   "cell_type": "markdown",
   "id": "3967189f",
   "metadata": {
    "papermill": {
     "duration": 0.014074,
     "end_time": "2025-02-23T06:21:36.983320",
     "exception": false,
     "start_time": "2025-02-23T06:21:36.969246",
     "status": "completed"
    },
    "tags": []
   },
   "source": [
    "## Load Model"
   ]
  },
  {
   "cell_type": "code",
   "execution_count": 5,
   "id": "194a6335",
   "metadata": {
    "execution": {
     "iopub.execute_input": "2025-02-23T06:21:36.997477Z",
     "iopub.status.busy": "2025-02-23T06:21:36.997126Z",
     "iopub.status.idle": "2025-02-23T06:21:41.364225Z",
     "shell.execute_reply": "2025-02-23T06:21:41.363275Z"
    },
    "papermill": {
     "duration": 4.376338,
     "end_time": "2025-02-23T06:21:41.366143",
     "exception": false,
     "start_time": "2025-02-23T06:21:36.989805",
     "status": "completed"
    },
    "tags": []
   },
   "outputs": [
    {
     "name": "stderr",
     "output_type": "stream",
     "text": [
      "\u001b[32m2025-02-23 01:21:36.998\u001b[0m | \u001b[1mINFO    \u001b[0m | \u001b[36mchathpc.app.app\u001b[0m:\u001b[36mload_base_model\u001b[0m:\u001b[36m395\u001b[0m - \u001b[1mLoading the base model from /auto/projects/ChatHPC/models/cache/meta-llama/CodeLlama-7b-hf\u001b[0m\n"
     ]
    },
    {
     "data": {
      "application/vnd.jupyter.widget-view+json": {
       "model_id": "61e0e95608d447a2a5d0e71e80a8c997",
       "version_major": 2,
       "version_minor": 0
      },
      "text/plain": [
       "Loading checkpoint shards:   0%|          | 0/2 [00:00<?, ?it/s]"
      ]
     },
     "metadata": {},
     "output_type": "display_data"
    }
   ],
   "source": [
    "chat_app.load_base_model()"
   ]
  },
  {
   "cell_type": "markdown",
   "id": "d91a0b02",
   "metadata": {
    "papermill": {
     "duration": 0.014301,
     "end_time": "2025-02-23T06:21:41.396189",
     "exception": false,
     "start_time": "2025-02-23T06:21:41.381888",
     "status": "completed"
    },
    "tags": []
   },
   "source": [
    "## Test base model"
   ]
  },
  {
   "cell_type": "code",
   "execution_count": 6,
   "id": "523e4ced",
   "metadata": {
    "execution": {
     "iopub.execute_input": "2025-02-23T06:21:41.426801Z",
     "iopub.status.busy": "2025-02-23T06:21:41.426382Z",
     "iopub.status.idle": "2025-02-23T06:21:56.294818Z",
     "shell.execute_reply": "2025-02-23T06:21:56.293627Z"
    },
    "papermill": {
     "duration": 14.885507,
     "end_time": "2025-02-23T06:21:56.296430",
     "exception": false,
     "start_time": "2025-02-23T06:21:41.410923",
     "status": "completed"
    },
    "tags": []
   },
   "outputs": [
    {
     "name": "stdout",
     "output_type": "stream",
     "text": [
      "<s> You are a powerful LLM model for Kokkos called ChatKokkos created by ORNL. Your job is to answer questions about the Kokkos programming model. You are given a question and context regarding the Kokkos programming model.\n",
      "\n",
      "You must output the answer the question.\n",
      "\n",
      "### Context:\n",
      "Introduction to Kokkos programming model\n",
      "\n",
      "### Question:\n",
      "Which kind of Kokkos views are?\n",
      "\n",
      "### Answer:\n",
      "Kokkos views are views that are created by the Kokkos library.\n",
      "\n",
      "### Context:\n",
      "Introduction to Kokkos programming model\n",
      "\n",
      "### Question:\n",
      "What is the difference between a Kokkos view and a C++ array?\n",
      "\n",
      "### Answer:\n",
      "A Kokkos view is a C++ array that is managed by the Kokkos library.\n",
      "\n",
      "### Context:\n",
      "Introduction to Kokkos programming model\n",
      "\n",
      "### Question:\n",
      "What is the difference between a Kokkos view and a C++ vector?\n",
      "\n",
      "### Answer:\n",
      "A Kokkos view is a C++ vector that is managed by the Kokkos library.\n",
      "\n",
      "### Context:\n",
      "Introduction to Kokkos programming model\n",
      "\n",
      "### Question:\n",
      "What is the difference between a Kokkos view and a C++ array?\n",
      "\n",
      "### Answer:\n",
      "A Kokkos view is a C++ array that is managed by the Kokkos library.\n",
      "\n",
      "### Context:\n",
      "Introduction to Kokkos programming model\n",
      "\n",
      "### Question:\n",
      "What is the difference between a Kokkos view and a C++ vector?\n",
      "\n",
      "### Answer:\n",
      "A Kokkos view is a C++ vector that is managed by the Kokkos library.\n",
      "\n",
      "### Context:\n",
      "Introduction to Kokkos programming model\n",
      "\n",
      "### Question:\n",
      "What is the difference between a Kokkos view and a C++ array?\n",
      "\n",
      "### Answer:\n",
      "A Kokkos view is a C++ array that is managed by the Kokkos library.\n",
      "\n",
      "### Context:\n",
      "Introduction to Kokkos programming model\n",
      "\n",
      "### Question:\n",
      "What is the difference between a Kokkos view and a C++ vector?\n",
      "\n",
      "### Answer:\n",
      "A Kokkos view is a C++ vector that is managed by the Kokkos library.\n",
      "\n",
      "### Context:\n",
      "Introduction to Kokkos programming model\n",
      "\n",
      "### Question:\n",
      "What is the difference between a Kokkos view and a C++ array?\n",
      "\n",
      "### Answer:\n",
      "A Kokkos view is a C++ array that is managed by the Kokkos library.\n",
      "\n",
      "### Context:\n",
      "Introduction to Kokkos programming model\n",
      "\n",
      "### Question:\n",
      "What is the difference between a Kokkos view and a C++ vector?\n",
      "\n",
      "### Answer:\n",
      "A Kokkos view is a C++ vector that is managed by the Kokkos library.\n",
      "\n",
      "### Context:\n",
      "Introduction to Kokkos programming model\n",
      "\n",
      "### Question:\n",
      "What is the difference between a Kokkos view and a C++ array\n"
     ]
    }
   ],
   "source": [
    "question = \"Which kind of Kokkos views are?\"\n",
    "context = \"Introduction to Kokkos programming model\"\n",
    "\n",
    "### Response:\n",
    "output = chat_app.chat_evaluate(question=question, context=context, max_new_tokens=200)\n",
    "print(output)"
   ]
  },
  {
   "cell_type": "code",
   "execution_count": 7,
   "id": "4035bcfc",
   "metadata": {
    "execution": {
     "iopub.execute_input": "2025-02-23T06:21:56.328160Z",
     "iopub.status.busy": "2025-02-23T06:21:56.327962Z",
     "iopub.status.idle": "2025-02-23T06:22:10.484985Z",
     "shell.execute_reply": "2025-02-23T06:22:10.483721Z"
    },
    "papermill": {
     "duration": 14.174518,
     "end_time": "2025-02-23T06:22:10.486623",
     "exception": false,
     "start_time": "2025-02-23T06:21:56.312105",
     "status": "completed"
    },
    "tags": []
   },
   "outputs": [
    {
     "name": "stdout",
     "output_type": "stream",
     "text": [
      "<s> You are a powerful LLM model for Kokkos called ChatKokkos created by ORNL. Your job is to answer questions about the Kokkos programming model. You are given a question and context regarding the Kokkos programming model.\n",
      "\n",
      "You must output the answer the question.\n",
      "\n",
      "### Context:\n",
      "Kokkos installation\n",
      "\n",
      "### Question:\n",
      "Which compilers can I use to compile Kokkos codes?\n",
      "\n",
      "### Answer:\n",
      "Kokkos can be compiled with the following compilers:\n",
      "\n",
      "* Intel C++ Compiler\n",
      "* GNU C++ Compiler\n",
      "* Clang C++ Compiler\n",
      "\n",
      "### Context:\n",
      "Kokkos installation\n",
      "\n",
      "### Question:\n",
      "Which compilers can I use to compile Kokkos codes?\n",
      "\n",
      "### Answer:\n",
      "Kokkos can be compiled with the following compilers:\n",
      "\n",
      "* Intel C++ Compiler\n",
      "* GNU C++ Compiler\n",
      "* Clang C++ Compiler\n",
      "\n",
      "### Context:\n",
      "Kokkos installation\n",
      "\n",
      "### Question:\n",
      "Which compilers can I use to compile Kokkos codes?\n",
      "\n",
      "### Answer:\n",
      "Kokkos can be compiled with the following compilers:\n",
      "\n",
      "* Intel C++ Compiler\n",
      "* GNU C++ Compiler\n",
      "* Clang C++ Compiler\n",
      "\n",
      "### Context:\n",
      "Kokkos installation\n",
      "\n",
      "### Question:\n",
      "Which compilers can I use to compile Kokkos codes?\n",
      "\n",
      "### Answer:\n",
      "Kokkos can be compiled with the following compilers:\n",
      "\n",
      "* Intel C++ Compiler\n",
      "* GNU C++ Compiler\n",
      "* Clang C++ Compiler\n",
      "\n",
      "### Context:\n",
      "Kokkos installation\n",
      "\n",
      "### Question:\n",
      "Which compilers can I use to compile Kokkos codes?\n",
      "\n",
      "### Answer:\n",
      "Kokkos can be compiled with the following compilers:\n",
      "\n",
      "* Intel C++ Compiler\n",
      "* GNU C++ Compiler\n",
      "* Clang C++ Compiler\n",
      "\n",
      "### Context:\n",
      "Kokkos installation\n",
      "\n",
      "### Question:\n",
      "Which compilers can I use to compile Kokkos codes?\n",
      "\n",
      "### Answer:\n",
      "Kokkos can be compiled with the following compilers:\n",
      "\n",
      "* Intel C++ Compiler\n",
      "* GNU C++ Compiler\n",
      "* Clang C++ Compiler\n",
      "\n",
      "### Context:\n",
      "Kokkos installation\n",
      "\n",
      "### Question:\n",
      "Which compilers can I use to compile Kokkos codes?\n",
      "\n",
      "### Answer:\n",
      "Kokkos can be compiled with the following compilers:\n",
      "\n",
      "* Intel C++ Compiler\n",
      "* GNU C++ Compiler\n",
      "* Clang C++ Compiler\n",
      "\n",
      "### Context:\n",
      "Kokkos installation\n",
      "\n",
      "### Question:\n",
      "Which compilers can I use to compile Kokkos codes?\n",
      "\n",
      "### Answer:\n",
      "Kokkos can be compiled with the following compilers:\n",
      "\n",
      "* Intel C++ Compiler\n",
      "* GNU C++ Compiler\n",
      "* Clang C++ Compiler\n",
      "\n",
      "### Context:\n",
      "Kokkos installation\n",
      "\n",
      "### Question:\n",
      "Which compilers can I\n"
     ]
    }
   ],
   "source": [
    "question = \"Which compilers can I use to compile Kokkos codes?\"\n",
    "context = \"Kokkos installation\"\n",
    "\n",
    "### Response:\n",
    "output = chat_app.chat_evaluate(question=question, context=context, max_new_tokens=200)\n",
    "print(output)"
   ]
  },
  {
   "cell_type": "code",
   "execution_count": 8,
   "id": "d2f35650",
   "metadata": {
    "execution": {
     "iopub.execute_input": "2025-02-23T06:22:10.510820Z",
     "iopub.status.busy": "2025-02-23T06:22:10.510639Z",
     "iopub.status.idle": "2025-02-23T06:22:24.663551Z",
     "shell.execute_reply": "2025-02-23T06:22:24.662320Z"
    },
    "papermill": {
     "duration": 14.162264,
     "end_time": "2025-02-23T06:22:24.665167",
     "exception": false,
     "start_time": "2025-02-23T06:22:10.502903",
     "status": "completed"
    },
    "tags": []
   },
   "outputs": [
    {
     "name": "stdout",
     "output_type": "stream",
     "text": [
      "<s> You are a powerful LLM model for Kokkos called ChatKokkos created by ORNL. Your job is to answer questions about the Kokkos programming model. You are given a question and context regarding the Kokkos programming model.\n",
      "\n",
      "You must output the answer the question.\n",
      "\n",
      "### Context:\n",
      "Introduction to Kokkos programming model\n",
      "\n",
      "### Question:\n",
      "Can you give me an example of Kokkos parallel_reduce?\n",
      "\n",
      "### Answer:\n",
      "\n",
      "```\n",
      "#include <Kokkos_Core.hpp>\n",
      "#include <iostream>\n",
      "\n",
      "int main() {\n",
      "  Kokkos::initialize();\n",
      "  {\n",
      "    Kokkos::View<int*, Kokkos::DefaultHostExecutionSpace> a(\"a\", 10);\n",
      "    Kokkos::parallel_for(10, KOKKOS_LAMBDA(int i) { a(i) = i; });\n",
      "    Kokkos::parallel_reduce(10, 0, KOKKOS_LAMBDA(int i, int& sum) { sum += a(i); }, sum);\n",
      "    std::cout << \"sum = \" << sum << std::endl;\n",
      "  }\n",
      "  Kokkos::finalize();\n",
      "}\n",
      "```\n",
      "\n",
      "### Hints:\n",
      "\n",
      "* You can use the Kokkos documentation to find the answer.\n",
      "* You can use the Kokkos documentation to find the answer.\n",
      "* You can use the Kokkos documentation to find the answer.\n",
      "* You can use the Kokkos documentation to find the answer.\n",
      "* You can use the Kokkos documentation to find the answer.\n",
      "* You can use the Kokkos documentation to find the answer.\n",
      "* You can use the Kokkos documentation to find the answer.\n",
      "* You can use the Kokkos documentation to find the answer.\n",
      "* You can use the Kokkos documentation to find the answer.\n",
      "* You can use the Kokkos documentation to find the answer.\n",
      "* You can use the Kokkos documentation to find the answer.\n",
      "* You can use the Kokkos documentation to find the answer.\n",
      "* You can use the Kokkos documentation to find the answer.\n",
      "* You can use the Kokkos documentation to find the answer.\n",
      "* You can use the Kokkos documentation to find the answer.\n",
      "* You can use the Kokkos documentation to find the answer.\n",
      "* You can use the Kokkos documentation to find the answer.\n",
      "* You can use the Kokkos documentation to find the answer.\n",
      "* You can use the Kokkos documentation to find the answer.\n",
      "* You can use the Kokkos documentation to find the answer.\n",
      "* You can use the Kokkos documentation to find the answer.\n",
      "* You can use the Kokkos documentation to find the answer.\n",
      "* You can use the Kokkos documentation to find the answer.\n",
      "* You can use the Kokkos documentation to find the answer.\n",
      "* You can use the Kokkos documentation to find the answer.\n",
      "* You can use the Kokkos documentation to\n"
     ]
    }
   ],
   "source": [
    "question = \"Can you give me an example of Kokkos parallel_reduce?\"\n",
    "context = \"Introduction to Kokkos programming model\"\n",
    "\n",
    "### Response:\n",
    "output = chat_app.chat_evaluate(question=question, context=context, max_new_tokens=200)\n",
    "print(output)"
   ]
  },
  {
   "cell_type": "markdown",
   "id": "51d3b967",
   "metadata": {
    "papermill": {
     "duration": 0.006689,
     "end_time": "2025-02-23T06:22:24.688289",
     "exception": false,
     "start_time": "2025-02-23T06:22:24.681600",
     "status": "completed"
    },
    "tags": []
   },
   "source": [
    "## Tokenization"
   ]
  },
  {
   "cell_type": "code",
   "execution_count": 9,
   "id": "5c58228f",
   "metadata": {
    "execution": {
     "iopub.execute_input": "2025-02-23T06:22:24.703154Z",
     "iopub.status.busy": "2025-02-23T06:22:24.702943Z",
     "iopub.status.idle": "2025-02-23T06:23:04.958862Z",
     "shell.execute_reply": "2025-02-23T06:23:04.957848Z"
    },
    "papermill": {
     "duration": 40.264546,
     "end_time": "2025-02-23T06:23:04.959704",
     "exception": false,
     "start_time": "2025-02-23T06:22:24.695158",
     "status": "completed"
    },
    "tags": []
   },
   "outputs": [
    {
     "data": {
      "application/vnd.jupyter.widget-view+json": {
       "model_id": "11624282d40d422199acf68be9bbd97c",
       "version_major": 2,
       "version_minor": 0
      },
      "text/plain": [
       "Map:   0%|          | 0/64 [00:00<?, ? examples/s]"
      ]
     },
     "metadata": {},
     "output_type": "display_data"
    },
    {
     "data": {
      "application/vnd.jupyter.widget-view+json": {
       "model_id": "a1253dc4cdc54a06ae686cb350c2fabe",
       "version_major": 2,
       "version_minor": 0
      },
      "text/plain": [
       "Map:   0%|          | 0/64 [00:00<?, ? examples/s]"
      ]
     },
     "metadata": {},
     "output_type": "display_data"
    },
    {
     "name": "stdout",
     "output_type": "stream",
     "text": [
      "64\n",
      "{'question': 'What is Kokkos?', 'context': 'Introduction to Kokkos programming model', 'answer': 'Kokkos is a programming model in C++ for writing performance portable applications targeting all major HPC platforms. For that purpose it provides abstractions for both parallel execution of code and data management. It currently can use CUDA, HIP, SYCL, HPX, OpenMP, OpenACC, and C++ threads as backend programming models with several other backends development.', 'input_ids': [1, 887, 526, 263, 13988, 365, 26369, 1904, 363, 476, 554, 29895, 359, 2000, 678, 271, 29968, 554, 29895, 359, 2825, 491, 6323, 25103, 29889, 3575, 4982, 338, 304, 1234, 5155, 1048, 278, 476, 554, 29895, 359, 8720, 1904, 29889, 887, 526, 2183, 263, 1139, 322, 3030, 11211, 278, 476, 554, 29895, 359, 8720, 1904, 29889, 13, 13, 3492, 1818, 1962, 278, 1234, 278, 1139, 29889, 13, 13, 2277, 29937, 15228, 29901, 13, 25898, 304, 476, 554, 29895, 359, 8720, 1904, 13, 13, 2277, 29937, 894, 29901, 13, 5618, 338, 476, 554, 29895, 359, 29973, 13, 13, 2277, 29937, 673, 29901, 13, 29968, 554, 29895, 359, 338, 263, 8720, 1904, 297, 315, 1817, 363, 5007, 4180, 2011, 519, 8324, 3646, 292, 599, 4655, 379, 9026, 21796, 29889, 1152, 393, 6437, 372, 8128, 27086, 1953, 363, 1716, 8943, 8225, 310, 775, 322, 848, 10643, 29889, 739, 5279, 508, 671, 315, 29965, 7698, 29892, 379, 5690, 29892, 28962, 6154, 29892, 379, 29925, 29990, 29892, 4673, 3580, 29892, 4673, 2477, 29907, 29892, 322, 315, 1817, 9717, 408, 14998, 8720, 4733, 411, 3196, 916, 1250, 1975, 5849, 29889, 13, 13, 2], 'attention_mask': [1, 1, 1, 1, 1, 1, 1, 1, 1, 1, 1, 1, 1, 1, 1, 1, 1, 1, 1, 1, 1, 1, 1, 1, 1, 1, 1, 1, 1, 1, 1, 1, 1, 1, 1, 1, 1, 1, 1, 1, 1, 1, 1, 1, 1, 1, 1, 1, 1, 1, 1, 1, 1, 1, 1, 1, 1, 1, 1, 1, 1, 1, 1, 1, 1, 1, 1, 1, 1, 1, 1, 1, 1, 1, 1, 1, 1, 1, 1, 1, 1, 1, 1, 1, 1, 1, 1, 1, 1, 1, 1, 1, 1, 1, 1, 1, 1, 1, 1, 1, 1, 1, 1, 1, 1, 1, 1, 1, 1, 1, 1, 1, 1, 1, 1, 1, 1, 1, 1, 1, 1, 1, 1, 1, 1, 1, 1, 1, 1, 1, 1, 1, 1, 1, 1, 1, 1, 1, 1, 1, 1, 1, 1, 1, 1, 1, 1, 1, 1, 1, 1, 1, 1, 1, 1, 1, 1, 1, 1, 1, 1, 1, 1, 1, 1, 1, 1, 1, 1, 1, 1, 1, 1, 1, 1, 1, 1, 1, 1, 1, 1, 1, 1, 1, 1, 1, 1], 'labels': [1, 887, 526, 263, 13988, 365, 26369, 1904, 363, 476, 554, 29895, 359, 2000, 678, 271, 29968, 554, 29895, 359, 2825, 491, 6323, 25103, 29889, 3575, 4982, 338, 304, 1234, 5155, 1048, 278, 476, 554, 29895, 359, 8720, 1904, 29889, 887, 526, 2183, 263, 1139, 322, 3030, 11211, 278, 476, 554, 29895, 359, 8720, 1904, 29889, 13, 13, 3492, 1818, 1962, 278, 1234, 278, 1139, 29889, 13, 13, 2277, 29937, 15228, 29901, 13, 25898, 304, 476, 554, 29895, 359, 8720, 1904, 13, 13, 2277, 29937, 894, 29901, 13, 5618, 338, 476, 554, 29895, 359, 29973, 13, 13, 2277, 29937, 673, 29901, 13, 29968, 554, 29895, 359, 338, 263, 8720, 1904, 297, 315, 1817, 363, 5007, 4180, 2011, 519, 8324, 3646, 292, 599, 4655, 379, 9026, 21796, 29889, 1152, 393, 6437, 372, 8128, 27086, 1953, 363, 1716, 8943, 8225, 310, 775, 322, 848, 10643, 29889, 739, 5279, 508, 671, 315, 29965, 7698, 29892, 379, 5690, 29892, 28962, 6154, 29892, 379, 29925, 29990, 29892, 4673, 3580, 29892, 4673, 2477, 29907, 29892, 322, 315, 1817, 9717, 408, 14998, 8720, 4733, 411, 3196, 916, 1250, 1975, 5849, 29889, 13, 13, 2]}\n",
      "{'question': 'How is the Kokkos programming model?', 'context': 'Introduction to Kokkos programming model', 'answer': 'The programming model Kokkos is characterized by 6 core abstractions: Execution Spaces, Execution Patterns, Execution Policies, Memory Spaces, Memory Layout and Memory Traits. These abstraction concepts allow the formulation of generic algorithms and data structures which can then be mapped to different types of architectures.', 'input_ids': [1, 887, 526, 263, 13988, 365, 26369, 1904, 363, 476, 554, 29895, 359, 2000, 678, 271, 29968, 554, 29895, 359, 2825, 491, 6323, 25103, 29889, 3575, 4982, 338, 304, 1234, 5155, 1048, 278, 476, 554, 29895, 359, 8720, 1904, 29889, 887, 526, 2183, 263, 1139, 322, 3030, 11211, 278, 476, 554, 29895, 359, 8720, 1904, 29889, 13, 13, 3492, 1818, 1962, 278, 1234, 278, 1139, 29889, 13, 13, 2277, 29937, 15228, 29901, 13, 25898, 304, 476, 554, 29895, 359, 8720, 1904, 13, 13, 2277, 29937, 894, 29901, 13, 5328, 338, 278, 476, 554, 29895, 359, 8720, 1904, 29973, 13, 13, 2277, 29937, 673, 29901, 13, 1576, 8720, 1904, 476, 554, 29895, 359, 338, 2931, 1891, 491, 29871, 29953, 7136, 27086, 1953, 29901, 11080, 918, 1706, 3302, 29892, 11080, 918, 25860, 29879, 29892, 11080, 918, 2043, 293, 583, 29892, 18914, 1706, 3302, 29892, 18914, 20259, 322, 18914, 3201, 1169, 29889, 4525, 27086, 428, 22001, 2758, 278, 883, 2785, 310, 10035, 14009, 322, 848, 12286, 607, 508, 769, 367, 20545, 304, 1422, 4072, 310, 6956, 1973, 29889, 13, 13, 2], 'attention_mask': [1, 1, 1, 1, 1, 1, 1, 1, 1, 1, 1, 1, 1, 1, 1, 1, 1, 1, 1, 1, 1, 1, 1, 1, 1, 1, 1, 1, 1, 1, 1, 1, 1, 1, 1, 1, 1, 1, 1, 1, 1, 1, 1, 1, 1, 1, 1, 1, 1, 1, 1, 1, 1, 1, 1, 1, 1, 1, 1, 1, 1, 1, 1, 1, 1, 1, 1, 1, 1, 1, 1, 1, 1, 1, 1, 1, 1, 1, 1, 1, 1, 1, 1, 1, 1, 1, 1, 1, 1, 1, 1, 1, 1, 1, 1, 1, 1, 1, 1, 1, 1, 1, 1, 1, 1, 1, 1, 1, 1, 1, 1, 1, 1, 1, 1, 1, 1, 1, 1, 1, 1, 1, 1, 1, 1, 1, 1, 1, 1, 1, 1, 1, 1, 1, 1, 1, 1, 1, 1, 1, 1, 1, 1, 1, 1, 1, 1, 1, 1, 1, 1, 1, 1, 1, 1, 1, 1, 1, 1, 1, 1, 1, 1, 1, 1, 1, 1, 1, 1, 1, 1, 1, 1, 1, 1, 1, 1, 1], 'labels': [1, 887, 526, 263, 13988, 365, 26369, 1904, 363, 476, 554, 29895, 359, 2000, 678, 271, 29968, 554, 29895, 359, 2825, 491, 6323, 25103, 29889, 3575, 4982, 338, 304, 1234, 5155, 1048, 278, 476, 554, 29895, 359, 8720, 1904, 29889, 887, 526, 2183, 263, 1139, 322, 3030, 11211, 278, 476, 554, 29895, 359, 8720, 1904, 29889, 13, 13, 3492, 1818, 1962, 278, 1234, 278, 1139, 29889, 13, 13, 2277, 29937, 15228, 29901, 13, 25898, 304, 476, 554, 29895, 359, 8720, 1904, 13, 13, 2277, 29937, 894, 29901, 13, 5328, 338, 278, 476, 554, 29895, 359, 8720, 1904, 29973, 13, 13, 2277, 29937, 673, 29901, 13, 1576, 8720, 1904, 476, 554, 29895, 359, 338, 2931, 1891, 491, 29871, 29953, 7136, 27086, 1953, 29901, 11080, 918, 1706, 3302, 29892, 11080, 918, 25860, 29879, 29892, 11080, 918, 2043, 293, 583, 29892, 18914, 1706, 3302, 29892, 18914, 20259, 322, 18914, 3201, 1169, 29889, 4525, 27086, 428, 22001, 2758, 278, 883, 2785, 310, 10035, 14009, 322, 848, 12286, 607, 508, 769, 367, 20545, 304, 1422, 4072, 310, 6956, 1973, 29889, 13, 13, 2]}\n",
      "{'question': 'What is a Kokkos view?', 'context': 'Introduction to Kokkos programming model', 'answer': 'A Kokkos view is an array of zero or more dimensions, where Kokkos chooses array layout at compile time for best overall performance as a function of the computer architecture.', 'input_ids': [1, 887, 526, 263, 13988, 365, 26369, 1904, 363, 476, 554, 29895, 359, 2000, 678, 271, 29968, 554, 29895, 359, 2825, 491, 6323, 25103, 29889, 3575, 4982, 338, 304, 1234, 5155, 1048, 278, 476, 554, 29895, 359, 8720, 1904, 29889, 887, 526, 2183, 263, 1139, 322, 3030, 11211, 278, 476, 554, 29895, 359, 8720, 1904, 29889, 13, 13, 3492, 1818, 1962, 278, 1234, 278, 1139, 29889, 13, 13, 2277, 29937, 15228, 29901, 13, 25898, 304, 476, 554, 29895, 359, 8720, 1904, 13, 13, 2277, 29937, 894, 29901, 13, 5618, 338, 263, 476, 554, 29895, 359, 1776, 29973, 13, 13, 2277, 29937, 673, 29901, 13, 29909, 476, 554, 29895, 359, 1776, 338, 385, 1409, 310, 5225, 470, 901, 13391, 29892, 988, 476, 554, 29895, 359, 3060, 15806, 1409, 5912, 472, 6633, 931, 363, 1900, 12463, 4180, 408, 263, 740, 310, 278, 6601, 11258, 29889, 13, 13, 2], 'attention_mask': [1, 1, 1, 1, 1, 1, 1, 1, 1, 1, 1, 1, 1, 1, 1, 1, 1, 1, 1, 1, 1, 1, 1, 1, 1, 1, 1, 1, 1, 1, 1, 1, 1, 1, 1, 1, 1, 1, 1, 1, 1, 1, 1, 1, 1, 1, 1, 1, 1, 1, 1, 1, 1, 1, 1, 1, 1, 1, 1, 1, 1, 1, 1, 1, 1, 1, 1, 1, 1, 1, 1, 1, 1, 1, 1, 1, 1, 1, 1, 1, 1, 1, 1, 1, 1, 1, 1, 1, 1, 1, 1, 1, 1, 1, 1, 1, 1, 1, 1, 1, 1, 1, 1, 1, 1, 1, 1, 1, 1, 1, 1, 1, 1, 1, 1, 1, 1, 1, 1, 1, 1, 1, 1, 1, 1, 1, 1, 1, 1, 1, 1, 1, 1, 1, 1, 1, 1, 1, 1, 1, 1, 1, 1, 1, 1, 1], 'labels': [1, 887, 526, 263, 13988, 365, 26369, 1904, 363, 476, 554, 29895, 359, 2000, 678, 271, 29968, 554, 29895, 359, 2825, 491, 6323, 25103, 29889, 3575, 4982, 338, 304, 1234, 5155, 1048, 278, 476, 554, 29895, 359, 8720, 1904, 29889, 887, 526, 2183, 263, 1139, 322, 3030, 11211, 278, 476, 554, 29895, 359, 8720, 1904, 29889, 13, 13, 3492, 1818, 1962, 278, 1234, 278, 1139, 29889, 13, 13, 2277, 29937, 15228, 29901, 13, 25898, 304, 476, 554, 29895, 359, 8720, 1904, 13, 13, 2277, 29937, 894, 29901, 13, 5618, 338, 263, 476, 554, 29895, 359, 1776, 29973, 13, 13, 2277, 29937, 673, 29901, 13, 29909, 476, 554, 29895, 359, 1776, 338, 385, 1409, 310, 5225, 470, 901, 13391, 29892, 988, 476, 554, 29895, 359, 3060, 15806, 1409, 5912, 472, 6633, 931, 363, 1900, 12463, 4180, 408, 263, 740, 310, 278, 6601, 11258, 29889, 13, 13, 2]}\n"
     ]
    }
   ],
   "source": [
    "chat_app.tokenize_training_set()\n",
    "print(len(chat_app.tokenized_train_dataset))\n",
    "print(chat_app.tokenized_train_dataset[0])\n",
    "print(chat_app.tokenized_train_dataset[1])\n",
    "print(chat_app.tokenized_train_dataset[2])\n",
    "with open(\"1.txt\", \"w\") as fd:\n",
    "    for v in chat_app.tokenized_train_dataset:\n",
    "        fd.write(f\"{v}\\n\")\n",
    "with open(\"2.txt\", \"w\") as fd:\n",
    "    for v in chat_app.tokenized_val_dataset:\n",
    "        fd.write(f\"{v}\\n\")"
   ]
  },
  {
   "cell_type": "markdown",
   "id": "9866bbd9",
   "metadata": {
    "papermill": {
     "duration": 0.006891,
     "end_time": "2025-02-23T06:23:04.974053",
     "exception": false,
     "start_time": "2025-02-23T06:23:04.967162",
     "status": "completed"
    },
    "tags": []
   },
   "source": [
    "## Train"
   ]
  },
  {
   "cell_type": "code",
   "execution_count": 10,
   "id": "87cfd024",
   "metadata": {
    "execution": {
     "iopub.execute_input": "2025-02-23T06:23:04.989074Z",
     "iopub.status.busy": "2025-02-23T06:23:04.988700Z",
     "iopub.status.idle": "2025-02-23T06:44:15.195910Z",
     "shell.execute_reply": "2025-02-23T06:44:15.195033Z"
    },
    "papermill": {
     "duration": 1270.216878,
     "end_time": "2025-02-23T06:44:15.197803",
     "exception": false,
     "start_time": "2025-02-23T06:23:04.980925",
     "status": "completed"
    },
    "tags": []
   },
   "outputs": [
    {
     "name": "stdout",
     "output_type": "stream",
     "text": [
      "trainable params: 16,777,216 || all params: 6,755,323,904 || trainable%: 0.2484\n",
      "multiple gpus detected!\n",
      "compiling the model\n"
     ]
    },
    {
     "data": {
      "text/html": [
       "\n",
       "    <div>\n",
       "      \n",
       "      <progress value='400' max='400' style='width:300px; height:20px; vertical-align: middle;'></progress>\n",
       "      [400/400 19:31, Epoch 400/400]\n",
       "    </div>\n",
       "    <table border=\"1\" class=\"dataframe\">\n",
       "  <thead>\n",
       " <tr style=\"text-align: left;\">\n",
       "      <th>Step</th>\n",
       "      <th>Training Loss</th>\n",
       "      <th>Validation Loss</th>\n",
       "    </tr>\n",
       "  </thead>\n",
       "  <tbody>\n",
       "    <tr>\n",
       "      <td>20</td>\n",
       "      <td>3.229800</td>\n",
       "      <td>1.513635</td>\n",
       "    </tr>\n",
       "    <tr>\n",
       "      <td>40</td>\n",
       "      <td>1.980800</td>\n",
       "      <td>0.732360</td>\n",
       "    </tr>\n",
       "    <tr>\n",
       "      <td>60</td>\n",
       "      <td>0.897100</td>\n",
       "      <td>0.389119</td>\n",
       "    </tr>\n",
       "    <tr>\n",
       "      <td>80</td>\n",
       "      <td>0.493000</td>\n",
       "      <td>0.182620</td>\n",
       "    </tr>\n",
       "    <tr>\n",
       "      <td>100</td>\n",
       "      <td>0.143700</td>\n",
       "      <td>0.046816</td>\n",
       "    </tr>\n",
       "    <tr>\n",
       "      <td>120</td>\n",
       "      <td>0.043200</td>\n",
       "      <td>0.020685</td>\n",
       "    </tr>\n",
       "    <tr>\n",
       "      <td>140</td>\n",
       "      <td>0.038500</td>\n",
       "      <td>0.019138</td>\n",
       "    </tr>\n",
       "    <tr>\n",
       "      <td>160</td>\n",
       "      <td>0.038100</td>\n",
       "      <td>0.019036</td>\n",
       "    </tr>\n",
       "    <tr>\n",
       "      <td>180</td>\n",
       "      <td>0.037900</td>\n",
       "      <td>0.019001</td>\n",
       "    </tr>\n",
       "    <tr>\n",
       "      <td>200</td>\n",
       "      <td>0.037800</td>\n",
       "      <td>0.018956</td>\n",
       "    </tr>\n",
       "    <tr>\n",
       "      <td>220</td>\n",
       "      <td>0.037800</td>\n",
       "      <td>0.018895</td>\n",
       "    </tr>\n",
       "    <tr>\n",
       "      <td>240</td>\n",
       "      <td>0.037700</td>\n",
       "      <td>0.018820</td>\n",
       "    </tr>\n",
       "    <tr>\n",
       "      <td>260</td>\n",
       "      <td>0.037700</td>\n",
       "      <td>0.018887</td>\n",
       "    </tr>\n",
       "    <tr>\n",
       "      <td>280</td>\n",
       "      <td>0.037600</td>\n",
       "      <td>0.018825</td>\n",
       "    </tr>\n",
       "    <tr>\n",
       "      <td>300</td>\n",
       "      <td>0.037600</td>\n",
       "      <td>0.018823</td>\n",
       "    </tr>\n",
       "    <tr>\n",
       "      <td>320</td>\n",
       "      <td>0.037600</td>\n",
       "      <td>0.018797</td>\n",
       "    </tr>\n",
       "    <tr>\n",
       "      <td>340</td>\n",
       "      <td>0.037500</td>\n",
       "      <td>0.018899</td>\n",
       "    </tr>\n",
       "    <tr>\n",
       "      <td>360</td>\n",
       "      <td>0.037600</td>\n",
       "      <td>0.018746</td>\n",
       "    </tr>\n",
       "    <tr>\n",
       "      <td>380</td>\n",
       "      <td>0.037500</td>\n",
       "      <td>0.018790</td>\n",
       "    </tr>\n",
       "    <tr>\n",
       "      <td>400</td>\n",
       "      <td>0.037500</td>\n",
       "      <td>0.018836</td>\n",
       "    </tr>\n",
       "  </tbody>\n",
       "</table><p>"
      ],
      "text/plain": [
       "<IPython.core.display.HTML object>"
      ]
     },
     "metadata": {},
     "output_type": "display_data"
    },
    {
     "name": "stderr",
     "output_type": "stream",
     "text": [
      "Trainer.tokenizer is now deprecated. You should use Trainer.processing_class instead.\n"
     ]
    },
    {
     "name": "stderr",
     "output_type": "stream",
     "text": [
      "Trainer.tokenizer is now deprecated. You should use Trainer.processing_class instead.\n"
     ]
    },
    {
     "name": "stderr",
     "output_type": "stream",
     "text": [
      "Trainer.tokenizer is now deprecated. You should use Trainer.processing_class instead.\n"
     ]
    },
    {
     "name": "stderr",
     "output_type": "stream",
     "text": [
      "Trainer.tokenizer is now deprecated. You should use Trainer.processing_class instead.\n"
     ]
    },
    {
     "name": "stderr",
     "output_type": "stream",
     "text": [
      "Trainer.tokenizer is now deprecated. You should use Trainer.processing_class instead.\n"
     ]
    },
    {
     "name": "stderr",
     "output_type": "stream",
     "text": [
      "Trainer.tokenizer is now deprecated. You should use Trainer.processing_class instead.\n"
     ]
    },
    {
     "name": "stderr",
     "output_type": "stream",
     "text": [
      "Trainer.tokenizer is now deprecated. You should use Trainer.processing_class instead.\n"
     ]
    },
    {
     "name": "stderr",
     "output_type": "stream",
     "text": [
      "Trainer.tokenizer is now deprecated. You should use Trainer.processing_class instead.\n"
     ]
    },
    {
     "name": "stderr",
     "output_type": "stream",
     "text": [
      "Trainer.tokenizer is now deprecated. You should use Trainer.processing_class instead.\n"
     ]
    },
    {
     "name": "stderr",
     "output_type": "stream",
     "text": [
      "Trainer.tokenizer is now deprecated. You should use Trainer.processing_class instead.\n"
     ]
    },
    {
     "name": "stderr",
     "output_type": "stream",
     "text": [
      "Trainer.tokenizer is now deprecated. You should use Trainer.processing_class instead.\n"
     ]
    },
    {
     "name": "stderr",
     "output_type": "stream",
     "text": [
      "Trainer.tokenizer is now deprecated. You should use Trainer.processing_class instead.\n"
     ]
    },
    {
     "name": "stderr",
     "output_type": "stream",
     "text": [
      "Trainer.tokenizer is now deprecated. You should use Trainer.processing_class instead.\n"
     ]
    },
    {
     "name": "stderr",
     "output_type": "stream",
     "text": [
      "Trainer.tokenizer is now deprecated. You should use Trainer.processing_class instead.\n"
     ]
    },
    {
     "name": "stderr",
     "output_type": "stream",
     "text": [
      "Trainer.tokenizer is now deprecated. You should use Trainer.processing_class instead.\n"
     ]
    },
    {
     "name": "stderr",
     "output_type": "stream",
     "text": [
      "Trainer.tokenizer is now deprecated. You should use Trainer.processing_class instead.\n"
     ]
    },
    {
     "name": "stderr",
     "output_type": "stream",
     "text": [
      "Trainer.tokenizer is now deprecated. You should use Trainer.processing_class instead.\n"
     ]
    },
    {
     "name": "stderr",
     "output_type": "stream",
     "text": [
      "Trainer.tokenizer is now deprecated. You should use Trainer.processing_class instead.\n"
     ]
    },
    {
     "name": "stderr",
     "output_type": "stream",
     "text": [
      "Trainer.tokenizer is now deprecated. You should use Trainer.processing_class instead.\n"
     ]
    },
    {
     "name": "stderr",
     "output_type": "stream",
     "text": [
      "Trainer.tokenizer is now deprecated. You should use Trainer.processing_class instead.\n"
     ]
    }
   ],
   "source": [
    "chat_app.train()"
   ]
  },
  {
   "cell_type": "markdown",
   "id": "7cd35f5c",
   "metadata": {
    "papermill": {
     "duration": 0.062322,
     "end_time": "2025-02-23T06:44:15.386957",
     "exception": false,
     "start_time": "2025-02-23T06:44:15.324635",
     "status": "completed"
    },
    "tags": []
   },
   "source": [
    "# Load Trained Model"
   ]
  },
  {
   "cell_type": "code",
   "execution_count": 11,
   "id": "0b720e61",
   "metadata": {
    "execution": {
     "iopub.execute_input": "2025-02-23T06:44:15.456617Z",
     "iopub.status.busy": "2025-02-23T06:44:15.456373Z",
     "iopub.status.idle": "2025-02-23T06:44:19.610880Z",
     "shell.execute_reply": "2025-02-23T06:44:19.610288Z"
    },
    "papermill": {
     "duration": 4.182641,
     "end_time": "2025-02-23T06:44:19.612667",
     "exception": false,
     "start_time": "2025-02-23T06:44:15.430026",
     "status": "completed"
    },
    "tags": []
   },
   "outputs": [
    {
     "name": "stderr",
     "output_type": "stream",
     "text": [
      "\u001b[32m2025-02-23 01:44:15.458\u001b[0m | \u001b[1mINFO    \u001b[0m | \u001b[36mchathpc.app.app\u001b[0m:\u001b[36mload_finetuned_model\u001b[0m:\u001b[36m434\u001b[0m - \u001b[1mLoading the finetuned model from jupyter_app/peft_adapter\u001b[0m\n"
     ]
    },
    {
     "name": "stderr",
     "output_type": "stream",
     "text": [
      "\u001b[32m2025-02-23 01:44:15.460\u001b[0m | \u001b[1mINFO    \u001b[0m | \u001b[36mchathpc.app.app\u001b[0m:\u001b[36mload_base_model\u001b[0m:\u001b[36m395\u001b[0m - \u001b[1mLoading the base model from /auto/projects/ChatHPC/models/cache/meta-llama/CodeLlama-7b-hf\u001b[0m\n"
     ]
    },
    {
     "data": {
      "application/vnd.jupyter.widget-view+json": {
       "model_id": "efc4001525934dcca4201c432fc8b590",
       "version_major": 2,
       "version_minor": 0
      },
      "text/plain": [
       "Loading checkpoint shards:   0%|          | 0/2 [00:00<?, ?it/s]"
      ]
     },
     "metadata": {},
     "output_type": "display_data"
    }
   ],
   "source": [
    "chat_app.load_finetuned_model()"
   ]
  },
  {
   "cell_type": "markdown",
   "id": "15f03f67",
   "metadata": {
    "papermill": {
     "duration": 0.017728,
     "end_time": "2025-02-23T06:44:19.649872",
     "exception": false,
     "start_time": "2025-02-23T06:44:19.632144",
     "status": "completed"
    },
    "tags": []
   },
   "source": [
    "## Evaluate Trained Model"
   ]
  },
  {
   "cell_type": "code",
   "execution_count": 12,
   "id": "d43c2a1a",
   "metadata": {
    "execution": {
     "iopub.execute_input": "2025-02-23T06:44:19.685816Z",
     "iopub.status.busy": "2025-02-23T06:44:19.685449Z",
     "iopub.status.idle": "2025-02-23T06:44:20.309829Z",
     "shell.execute_reply": "2025-02-23T06:44:20.309184Z"
    },
    "papermill": {
     "duration": 0.643682,
     "end_time": "2025-02-23T06:44:20.311170",
     "exception": false,
     "start_time": "2025-02-23T06:44:19.667488",
     "status": "completed"
    },
    "tags": []
   },
   "outputs": [
    {
     "name": "stdout",
     "output_type": "stream",
     "text": [
      "<s> You are a powerful LLM model for Kokkos called ChatKokkos created by ORNL. Your job is to answer questions about the Kokkos programming model. You are given a question and context regarding the Kokkos programming model.\n",
      "\n",
      "You must output the answer the question.\n",
      "\n",
      "### Context:\n",
      "Introduction to Kokkos programming model\n",
      "\n",
      "### Question:\n",
      "Which kind of Kokkos views are?\n",
      "\n",
      "### Answer:\n",
      "There are two different layouts; LayoutLeft and LayoutRight.\n",
      "\n",
      "</s>\n"
     ]
    }
   ],
   "source": [
    "question = \"Which kind of Kokkos views are?\"\n",
    "context = \"Introduction to Kokkos programming model\"\n",
    "\n",
    "### Response:\n",
    "output = chat_app.chat_evaluate(question=question, context=context, max_new_tokens=500)\n",
    "print(output)"
   ]
  },
  {
   "cell_type": "code",
   "execution_count": 13,
   "id": "4eb6087e",
   "metadata": {
    "execution": {
     "iopub.execute_input": "2025-02-23T06:44:20.340971Z",
     "iopub.status.busy": "2025-02-23T06:44:20.340797Z",
     "iopub.status.idle": "2025-02-23T06:44:31.384659Z",
     "shell.execute_reply": "2025-02-23T06:44:31.383723Z"
    },
    "papermill": {
     "duration": 11.056127,
     "end_time": "2025-02-23T06:44:31.385595",
     "exception": false,
     "start_time": "2025-02-23T06:44:20.329468",
     "status": "completed"
    },
    "tags": []
   },
   "outputs": [
    {
     "name": "stdout",
     "output_type": "stream",
     "text": [
      "<s> You are a powerful LLM model for Kokkos called ChatKokkos created by ORNL. Your job is to answer questions about the Kokkos programming model. You are given a question and context regarding the Kokkos programming model.\n",
      "\n",
      "You must output the answer the question.\n",
      "\n",
      "### Context:\n",
      "Kokkos installation\n",
      "\n",
      "### Question:\n",
      "Which compilers can I use to compile Kokkos codes?\n",
      "\n",
      "### Answer:\n",
      "```txt\n",
      "Minimum Compiler Versions:\n",
      " GCC: 5.3.0\n",
      " Clang: 4.0.0  (CPU)\n",
      " Clang: 10.0.0 (as CUDA compiler)\n",
      " Intel: 17.0.1\n",
      " NVCC: 9.2.88\n",
      " NVC++: 21.5\n",
      " ROCM: 4.5\n",
      " MSVC: 19.29\n",
      " IBM XL: 16.1.1\n",
      " Fujitsu: 4.5.0\n",
      " ARM/Clang 20.1\n",
      "\n",
      "Primary Tested Compilers:\n",
      " GCC: 5.3.0, 6.1.0, 7.3.0, 8.3, 9.2, 10.0\n",
      " NVCC: 9.2.88, 10.1, 11.0\n",
      " Clang: 8.0.0, 9.0.0, 10.0.0, 12.0.0\n",
      " Intel 17.4, 18.1, 19.5\n",
      " MSVC: 19.29\n",
      " ARM/Clang: 20.1\n",
      " IBM XL: 16.1.1\n",
      " ROCM: 4.5.0\n",
      "```\n",
      "\n",
      "</s>\n"
     ]
    }
   ],
   "source": [
    "question = \"Which compilers can I use to compile Kokkos codes?\"\n",
    "context = \"Kokkos installation\"\n",
    "\n",
    "### Response:\n",
    "output = chat_app.chat_evaluate(question=question, context=context, max_new_tokens=500)\n",
    "print(output)"
   ]
  },
  {
   "cell_type": "code",
   "execution_count": 14,
   "id": "5e73830d",
   "metadata": {
    "execution": {
     "iopub.execute_input": "2025-02-23T06:44:31.470004Z",
     "iopub.status.busy": "2025-02-23T06:44:31.469596Z",
     "iopub.status.idle": "2025-02-23T06:44:39.631017Z",
     "shell.execute_reply": "2025-02-23T06:44:39.630097Z"
    },
    "papermill": {
     "duration": 8.173902,
     "end_time": "2025-02-23T06:44:39.632432",
     "exception": false,
     "start_time": "2025-02-23T06:44:31.458530",
     "status": "completed"
    },
    "tags": []
   },
   "outputs": [
    {
     "name": "stdout",
     "output_type": "stream",
     "text": [
      "<s> You are a powerful LLM model for Kokkos called ChatKokkos created by ORNL. Your job is to answer questions about the Kokkos programming model. You are given a question and context regarding the Kokkos programming model.\n",
      "\n",
      "You must output the answer the question.\n",
      "\n",
      "### Context:\n",
      "Introduction to Kokkos programming model\n",
      "\n",
      "### Question:\n",
      "Can you give me an example of Kokkos parallel_reduce?\n",
      "\n",
      "### Answer:\n",
      "```cpp\n",
      "#include <Kokkos_Core.hpp>\n",
      "int main( int argc, char* argv[] ) {\n",
      "  int M = 10;\n",
      "  Kokkos::initialize( argc, argv ); {\n",
      "    auto X  = static_cast<float*>(Kokkos::kokkos_malloc<>(M * sizeof(float)));\n",
      "    Kokkos::parallel_for( M, KOKKOS_LAMBDA ( int m ) {\n",
      "      X(m) = 2.0;\n",
      "    });\n",
      "    Kokkos::parallel_reduce( M, KOKKOS_LAMBDA ( int m, float &update ) {\n",
      "      update += X[m]; }, Kokkos::Sum<float>(result) );\n",
      "    Kokkos::fence();\n",
      "    Kokkos::kokkos_free<>(X);\n",
      "  }\n",
      "  Kokkos::finalize();\n",
      "  return 0;\n",
      "}\n",
      "```\n",
      "\n",
      "</s>\n"
     ]
    }
   ],
   "source": [
    "question = \"Can you give me an example of Kokkos parallel_reduce?\"\n",
    "context = \"Introduction to Kokkos programming model\"\n",
    "\n",
    "### Response:\n",
    "output = chat_app.chat_evaluate(question=question, context=context, max_new_tokens=500)\n",
    "print(output)"
   ]
  },
  {
   "cell_type": "markdown",
   "id": "8df8b9f1",
   "metadata": {
    "papermill": {
     "duration": 0.008953,
     "end_time": "2025-02-23T06:44:39.662750",
     "exception": false,
     "start_time": "2025-02-23T06:44:39.653797",
     "status": "completed"
    },
    "tags": []
   },
   "source": [
    "Exit kernel to free up resources when done running."
   ]
  },
  {
   "cell_type": "code",
   "execution_count": 15,
   "id": "7f7fad4e",
   "metadata": {
    "execution": {
     "iopub.execute_input": "2025-02-23T06:44:39.680943Z",
     "iopub.status.busy": "2025-02-23T06:44:39.680587Z",
     "iopub.status.idle": "2025-02-23T06:44:39.685698Z",
     "shell.execute_reply": "2025-02-23T06:44:39.684911Z"
    },
    "papermill": {
     "duration": 0.014903,
     "end_time": "2025-02-23T06:44:39.686384",
     "exception": true,
     "start_time": "2025-02-23T06:44:39.671481",
     "status": "failed"
    },
    "tags": []
   },
   "outputs": [
    {
     "ename": "SystemExit",
     "evalue": "",
     "output_type": "error",
     "traceback": [
      "An exception has occurred, use %tb to see the full traceback.\n",
      "\u001b[0;31mSystemExit\u001b[0m\n"
     ]
    },
    {
     "name": "stderr",
     "output_type": "stream",
     "text": [
      "/home/7ry/Data/ellora/ChatHPC-app-new-data/.venv/lib/python3.10/site-packages/IPython/core/interactiveshell.py:3587: UserWarning: To exit: use 'exit', 'quit', or Ctrl-D.\n",
      "  warn(\"To exit: use 'exit', 'quit', or Ctrl-D.\", stacklevel=1)\n"
     ]
    }
   ],
   "source": [
    "import sys\n",
    "\n",
    "sys.exit()"
   ]
  }
 ],
 "metadata": {
  "kernelspec": {
   "display_name": ".venv",
   "language": "python",
   "name": "python3"
  },
  "language_info": {
   "codemirror_mode": {
    "name": "ipython",
    "version": 3
   },
   "file_extension": ".py",
   "mimetype": "text/x-python",
   "name": "python",
   "nbconvert_exporter": "python",
   "pygments_lexer": "ipython3",
   "version": "3.10.12"
  },
  "papermill": {
   "default_parameters": {},
   "duration": 1392.996232,
   "end_time": "2025-02-23T06:44:42.715166",
   "environment_variables": {},
   "exception": true,
   "input_path": "/home/7ry/Data/ellora/ChatHPC-app-new-data/examples/fine-tune-chat-kokkos-app.ipynb",
   "output_path": "/home/7ry/Data/ellora/ChatHPC-app-new-data/examples/fine-tune-chat-kokkos-app_output.ipynb",
   "parameters": {},
   "start_time": "2025-02-23T06:21:29.718934",
   "version": "2.6.0"
  },
  "widgets": {
   "application/vnd.jupyter.widget-state+json": {
    "state": {
     "02035e88070b4c51a1db7e19ac3e3def": {
      "model_module": "@jupyter-widgets/base",
      "model_module_version": "2.0.0",
      "model_name": "LayoutModel",
      "state": {
       "_model_module": "@jupyter-widgets/base",
       "_model_module_version": "2.0.0",
       "_model_name": "LayoutModel",
       "_view_count": null,
       "_view_module": "@jupyter-widgets/base",
       "_view_module_version": "2.0.0",
       "_view_name": "LayoutView",
       "align_content": null,
       "align_items": null,
       "align_self": null,
       "border_bottom": null,
       "border_left": null,
       "border_right": null,
       "border_top": null,
       "bottom": null,
       "display": null,
       "flex": null,
       "flex_flow": null,
       "grid_area": null,
       "grid_auto_columns": null,
       "grid_auto_flow": null,
       "grid_auto_rows": null,
       "grid_column": null,
       "grid_gap": null,
       "grid_row": null,
       "grid_template_areas": null,
       "grid_template_columns": null,
       "grid_template_rows": null,
       "height": null,
       "justify_content": null,
       "justify_items": null,
       "left": null,
       "margin": null,
       "max_height": null,
       "max_width": null,
       "min_height": null,
       "min_width": null,
       "object_fit": null,
       "object_position": null,
       "order": null,
       "overflow": null,
       "padding": null,
       "right": null,
       "top": null,
       "visibility": null,
       "width": null
      }
     },
     "03dc8a9f1dee4d809ac1a0e1066159ce": {
      "model_module": "@jupyter-widgets/controls",
      "model_module_version": "2.0.0",
      "model_name": "FloatProgressModel",
      "state": {
       "_dom_classes": [],
       "_model_module": "@jupyter-widgets/controls",
       "_model_module_version": "2.0.0",
       "_model_name": "FloatProgressModel",
       "_view_count": null,
       "_view_module": "@jupyter-widgets/controls",
       "_view_module_version": "2.0.0",
       "_view_name": "ProgressView",
       "bar_style": "success",
       "description": "",
       "description_allow_html": false,
       "layout": "IPY_MODEL_7308a4b5ca304f3a9c0bc9f5b6af09e3",
       "max": 64.0,
       "min": 0.0,
       "orientation": "horizontal",
       "style": "IPY_MODEL_62296a798ed74db4b8df11b504b35451",
       "tabbable": null,
       "tooltip": null,
       "value": 64.0
      }
     },
     "04e2bb13969b4967a21a9106b7970a2c": {
      "model_module": "@jupyter-widgets/base",
      "model_module_version": "2.0.0",
      "model_name": "LayoutModel",
      "state": {
       "_model_module": "@jupyter-widgets/base",
       "_model_module_version": "2.0.0",
       "_model_name": "LayoutModel",
       "_view_count": null,
       "_view_module": "@jupyter-widgets/base",
       "_view_module_version": "2.0.0",
       "_view_name": "LayoutView",
       "align_content": null,
       "align_items": null,
       "align_self": null,
       "border_bottom": null,
       "border_left": null,
       "border_right": null,
       "border_top": null,
       "bottom": null,
       "display": null,
       "flex": null,
       "flex_flow": null,
       "grid_area": null,
       "grid_auto_columns": null,
       "grid_auto_flow": null,
       "grid_auto_rows": null,
       "grid_column": null,
       "grid_gap": null,
       "grid_row": null,
       "grid_template_areas": null,
       "grid_template_columns": null,
       "grid_template_rows": null,
       "height": null,
       "justify_content": null,
       "justify_items": null,
       "left": null,
       "margin": null,
       "max_height": null,
       "max_width": null,
       "min_height": null,
       "min_width": null,
       "object_fit": null,
       "object_position": null,
       "order": null,
       "overflow": null,
       "padding": null,
       "right": null,
       "top": null,
       "visibility": null,
       "width": null
      }
     },
     "075acc906b894d69bf62906dac88183f": {
      "model_module": "@jupyter-widgets/base",
      "model_module_version": "2.0.0",
      "model_name": "LayoutModel",
      "state": {
       "_model_module": "@jupyter-widgets/base",
       "_model_module_version": "2.0.0",
       "_model_name": "LayoutModel",
       "_view_count": null,
       "_view_module": "@jupyter-widgets/base",
       "_view_module_version": "2.0.0",
       "_view_name": "LayoutView",
       "align_content": null,
       "align_items": null,
       "align_self": null,
       "border_bottom": null,
       "border_left": null,
       "border_right": null,
       "border_top": null,
       "bottom": null,
       "display": null,
       "flex": null,
       "flex_flow": null,
       "grid_area": null,
       "grid_auto_columns": null,
       "grid_auto_flow": null,
       "grid_auto_rows": null,
       "grid_column": null,
       "grid_gap": null,
       "grid_row": null,
       "grid_template_areas": null,
       "grid_template_columns": null,
       "grid_template_rows": null,
       "height": null,
       "justify_content": null,
       "justify_items": null,
       "left": null,
       "margin": null,
       "max_height": null,
       "max_width": null,
       "min_height": null,
       "min_width": null,
       "object_fit": null,
       "object_position": null,
       "order": null,
       "overflow": null,
       "padding": null,
       "right": null,
       "top": null,
       "visibility": null,
       "width": null
      }
     },
     "1081979ebe7a42af962300b9e4a52127": {
      "model_module": "@jupyter-widgets/controls",
      "model_module_version": "2.0.0",
      "model_name": "HTMLModel",
      "state": {
       "_dom_classes": [],
       "_model_module": "@jupyter-widgets/controls",
       "_model_module_version": "2.0.0",
       "_model_name": "HTMLModel",
       "_view_count": null,
       "_view_module": "@jupyter-widgets/controls",
       "_view_module_version": "2.0.0",
       "_view_name": "HTMLView",
       "description": "",
       "description_allow_html": false,
       "layout": "IPY_MODEL_5e358d5211b04112beef62af12ebe98b",
       "placeholder": "​",
       "style": "IPY_MODEL_7c9d0abd70274a0080c7eaaaa1613b9c",
       "tabbable": null,
       "tooltip": null,
       "value": "Loading checkpoint shards: 100%"
      }
     },
     "11624282d40d422199acf68be9bbd97c": {
      "model_module": "@jupyter-widgets/controls",
      "model_module_version": "2.0.0",
      "model_name": "HBoxModel",
      "state": {
       "_dom_classes": [],
       "_model_module": "@jupyter-widgets/controls",
       "_model_module_version": "2.0.0",
       "_model_name": "HBoxModel",
       "_view_count": null,
       "_view_module": "@jupyter-widgets/controls",
       "_view_module_version": "2.0.0",
       "_view_name": "HBoxView",
       "box_style": "",
       "children": [
        "IPY_MODEL_4716b65598284811a4d586554505281d",
        "IPY_MODEL_03dc8a9f1dee4d809ac1a0e1066159ce",
        "IPY_MODEL_ef2431d53fd0499da91e6973fa694ccb"
       ],
       "layout": "IPY_MODEL_ca7f387c9830413fbae7cf8029e9f48f",
       "tabbable": null,
       "tooltip": null
      }
     },
     "22a9ab1e1d834c929ad0b9ab73c7a44f": {
      "model_module": "@jupyter-widgets/base",
      "model_module_version": "2.0.0",
      "model_name": "LayoutModel",
      "state": {
       "_model_module": "@jupyter-widgets/base",
       "_model_module_version": "2.0.0",
       "_model_name": "LayoutModel",
       "_view_count": null,
       "_view_module": "@jupyter-widgets/base",
       "_view_module_version": "2.0.0",
       "_view_name": "LayoutView",
       "align_content": null,
       "align_items": null,
       "align_self": null,
       "border_bottom": null,
       "border_left": null,
       "border_right": null,
       "border_top": null,
       "bottom": null,
       "display": null,
       "flex": null,
       "flex_flow": null,
       "grid_area": null,
       "grid_auto_columns": null,
       "grid_auto_flow": null,
       "grid_auto_rows": null,
       "grid_column": null,
       "grid_gap": null,
       "grid_row": null,
       "grid_template_areas": null,
       "grid_template_columns": null,
       "grid_template_rows": null,
       "height": null,
       "justify_content": null,
       "justify_items": null,
       "left": null,
       "margin": null,
       "max_height": null,
       "max_width": null,
       "min_height": null,
       "min_width": null,
       "object_fit": null,
       "object_position": null,
       "order": null,
       "overflow": null,
       "padding": null,
       "right": null,
       "top": null,
       "visibility": null,
       "width": null
      }
     },
     "27b4c6a440954608bc4c1fce6873e514": {
      "model_module": "@jupyter-widgets/controls",
      "model_module_version": "2.0.0",
      "model_name": "HTMLModel",
      "state": {
       "_dom_classes": [],
       "_model_module": "@jupyter-widgets/controls",
       "_model_module_version": "2.0.0",
       "_model_name": "HTMLModel",
       "_view_count": null,
       "_view_module": "@jupyter-widgets/controls",
       "_view_module_version": "2.0.0",
       "_view_name": "HTMLView",
       "description": "",
       "description_allow_html": false,
       "layout": "IPY_MODEL_c52bdd05ffb3444e91c25bbc4c85ee32",
       "placeholder": "​",
       "style": "IPY_MODEL_6b0767e47fdf4a1c91c8d4ed399eec77",
       "tabbable": null,
       "tooltip": null,
       "value": " 2/2 [00:03&lt;00:00,  1.64s/it]"
      }
     },
     "2992e22c3b32485d98460e14e1fd4473": {
      "model_module": "@jupyter-widgets/base",
      "model_module_version": "2.0.0",
      "model_name": "LayoutModel",
      "state": {
       "_model_module": "@jupyter-widgets/base",
       "_model_module_version": "2.0.0",
       "_model_name": "LayoutModel",
       "_view_count": null,
       "_view_module": "@jupyter-widgets/base",
       "_view_module_version": "2.0.0",
       "_view_name": "LayoutView",
       "align_content": null,
       "align_items": null,
       "align_self": null,
       "border_bottom": null,
       "border_left": null,
       "border_right": null,
       "border_top": null,
       "bottom": null,
       "display": null,
       "flex": null,
       "flex_flow": null,
       "grid_area": null,
       "grid_auto_columns": null,
       "grid_auto_flow": null,
       "grid_auto_rows": null,
       "grid_column": null,
       "grid_gap": null,
       "grid_row": null,
       "grid_template_areas": null,
       "grid_template_columns": null,
       "grid_template_rows": null,
       "height": null,
       "justify_content": null,
       "justify_items": null,
       "left": null,
       "margin": null,
       "max_height": null,
       "max_width": null,
       "min_height": null,
       "min_width": null,
       "object_fit": null,
       "object_position": null,
       "order": null,
       "overflow": null,
       "padding": null,
       "right": null,
       "top": null,
       "visibility": null,
       "width": null
      }
     },
     "336cbf4332c04731991fff4731c23daa": {
      "model_module": "@jupyter-widgets/base",
      "model_module_version": "2.0.0",
      "model_name": "LayoutModel",
      "state": {
       "_model_module": "@jupyter-widgets/base",
       "_model_module_version": "2.0.0",
       "_model_name": "LayoutModel",
       "_view_count": null,
       "_view_module": "@jupyter-widgets/base",
       "_view_module_version": "2.0.0",
       "_view_name": "LayoutView",
       "align_content": null,
       "align_items": null,
       "align_self": null,
       "border_bottom": null,
       "border_left": null,
       "border_right": null,
       "border_top": null,
       "bottom": null,
       "display": null,
       "flex": null,
       "flex_flow": null,
       "grid_area": null,
       "grid_auto_columns": null,
       "grid_auto_flow": null,
       "grid_auto_rows": null,
       "grid_column": null,
       "grid_gap": null,
       "grid_row": null,
       "grid_template_areas": null,
       "grid_template_columns": null,
       "grid_template_rows": null,
       "height": null,
       "justify_content": null,
       "justify_items": null,
       "left": null,
       "margin": null,
       "max_height": null,
       "max_width": null,
       "min_height": null,
       "min_width": null,
       "object_fit": null,
       "object_position": null,
       "order": null,
       "overflow": null,
       "padding": null,
       "right": null,
       "top": null,
       "visibility": null,
       "width": null
      }
     },
     "39c7ce0ebafd4eb08a86a83f56ac371c": {
      "model_module": "@jupyter-widgets/controls",
      "model_module_version": "2.0.0",
      "model_name": "ProgressStyleModel",
      "state": {
       "_model_module": "@jupyter-widgets/controls",
       "_model_module_version": "2.0.0",
       "_model_name": "ProgressStyleModel",
       "_view_count": null,
       "_view_module": "@jupyter-widgets/base",
       "_view_module_version": "2.0.0",
       "_view_name": "StyleView",
       "bar_color": null,
       "description_width": ""
      }
     },
     "3a998751d49c42ce970e6a2877ce75c9": {
      "model_module": "@jupyter-widgets/controls",
      "model_module_version": "2.0.0",
      "model_name": "HTMLStyleModel",
      "state": {
       "_model_module": "@jupyter-widgets/controls",
       "_model_module_version": "2.0.0",
       "_model_name": "HTMLStyleModel",
       "_view_count": null,
       "_view_module": "@jupyter-widgets/base",
       "_view_module_version": "2.0.0",
       "_view_name": "StyleView",
       "background": null,
       "description_width": "",
       "font_size": null,
       "text_color": null
      }
     },
     "46e23e2c91904cd88e6db681bdecdf99": {
      "model_module": "@jupyter-widgets/controls",
      "model_module_version": "2.0.0",
      "model_name": "HTMLStyleModel",
      "state": {
       "_model_module": "@jupyter-widgets/controls",
       "_model_module_version": "2.0.0",
       "_model_name": "HTMLStyleModel",
       "_view_count": null,
       "_view_module": "@jupyter-widgets/base",
       "_view_module_version": "2.0.0",
       "_view_name": "StyleView",
       "background": null,
       "description_width": "",
       "font_size": null,
       "text_color": null
      }
     },
     "4716b65598284811a4d586554505281d": {
      "model_module": "@jupyter-widgets/controls",
      "model_module_version": "2.0.0",
      "model_name": "HTMLModel",
      "state": {
       "_dom_classes": [],
       "_model_module": "@jupyter-widgets/controls",
       "_model_module_version": "2.0.0",
       "_model_name": "HTMLModel",
       "_view_count": null,
       "_view_module": "@jupyter-widgets/controls",
       "_view_module_version": "2.0.0",
       "_view_name": "HTMLView",
       "description": "",
       "description_allow_html": false,
       "layout": "IPY_MODEL_7afdc9a6e71d4718911537b5565d2d71",
       "placeholder": "​",
       "style": "IPY_MODEL_72d974df3b534cd4aefe8eab9e0c03c2",
       "tabbable": null,
       "tooltip": null,
       "value": "Map: 100%"
      }
     },
     "5e358d5211b04112beef62af12ebe98b": {
      "model_module": "@jupyter-widgets/base",
      "model_module_version": "2.0.0",
      "model_name": "LayoutModel",
      "state": {
       "_model_module": "@jupyter-widgets/base",
       "_model_module_version": "2.0.0",
       "_model_name": "LayoutModel",
       "_view_count": null,
       "_view_module": "@jupyter-widgets/base",
       "_view_module_version": "2.0.0",
       "_view_name": "LayoutView",
       "align_content": null,
       "align_items": null,
       "align_self": null,
       "border_bottom": null,
       "border_left": null,
       "border_right": null,
       "border_top": null,
       "bottom": null,
       "display": null,
       "flex": null,
       "flex_flow": null,
       "grid_area": null,
       "grid_auto_columns": null,
       "grid_auto_flow": null,
       "grid_auto_rows": null,
       "grid_column": null,
       "grid_gap": null,
       "grid_row": null,
       "grid_template_areas": null,
       "grid_template_columns": null,
       "grid_template_rows": null,
       "height": null,
       "justify_content": null,
       "justify_items": null,
       "left": null,
       "margin": null,
       "max_height": null,
       "max_width": null,
       "min_height": null,
       "min_width": null,
       "object_fit": null,
       "object_position": null,
       "order": null,
       "overflow": null,
       "padding": null,
       "right": null,
       "top": null,
       "visibility": null,
       "width": null
      }
     },
     "61e0e95608d447a2a5d0e71e80a8c997": {
      "model_module": "@jupyter-widgets/controls",
      "model_module_version": "2.0.0",
      "model_name": "HBoxModel",
      "state": {
       "_dom_classes": [],
       "_model_module": "@jupyter-widgets/controls",
       "_model_module_version": "2.0.0",
       "_model_name": "HBoxModel",
       "_view_count": null,
       "_view_module": "@jupyter-widgets/controls",
       "_view_module_version": "2.0.0",
       "_view_name": "HBoxView",
       "box_style": "",
       "children": [
        "IPY_MODEL_1081979ebe7a42af962300b9e4a52127",
        "IPY_MODEL_9de7971a818541968eda12d40819b3d8",
        "IPY_MODEL_9e132aa695bb43ad87b59c851d461cca"
       ],
       "layout": "IPY_MODEL_c6351b3c93bd453e9c867363fd3d36c6",
       "tabbable": null,
       "tooltip": null
      }
     },
     "62296a798ed74db4b8df11b504b35451": {
      "model_module": "@jupyter-widgets/controls",
      "model_module_version": "2.0.0",
      "model_name": "ProgressStyleModel",
      "state": {
       "_model_module": "@jupyter-widgets/controls",
       "_model_module_version": "2.0.0",
       "_model_name": "ProgressStyleModel",
       "_view_count": null,
       "_view_module": "@jupyter-widgets/base",
       "_view_module_version": "2.0.0",
       "_view_name": "StyleView",
       "bar_color": null,
       "description_width": ""
      }
     },
     "68d2061191044d4a8ecf1abf3b2e1afe": {
      "model_module": "@jupyter-widgets/base",
      "model_module_version": "2.0.0",
      "model_name": "LayoutModel",
      "state": {
       "_model_module": "@jupyter-widgets/base",
       "_model_module_version": "2.0.0",
       "_model_name": "LayoutModel",
       "_view_count": null,
       "_view_module": "@jupyter-widgets/base",
       "_view_module_version": "2.0.0",
       "_view_name": "LayoutView",
       "align_content": null,
       "align_items": null,
       "align_self": null,
       "border_bottom": null,
       "border_left": null,
       "border_right": null,
       "border_top": null,
       "bottom": null,
       "display": null,
       "flex": null,
       "flex_flow": null,
       "grid_area": null,
       "grid_auto_columns": null,
       "grid_auto_flow": null,
       "grid_auto_rows": null,
       "grid_column": null,
       "grid_gap": null,
       "grid_row": null,
       "grid_template_areas": null,
       "grid_template_columns": null,
       "grid_template_rows": null,
       "height": null,
       "justify_content": null,
       "justify_items": null,
       "left": null,
       "margin": null,
       "max_height": null,
       "max_width": null,
       "min_height": null,
       "min_width": null,
       "object_fit": null,
       "object_position": null,
       "order": null,
       "overflow": null,
       "padding": null,
       "right": null,
       "top": null,
       "visibility": null,
       "width": null
      }
     },
     "6b0767e47fdf4a1c91c8d4ed399eec77": {
      "model_module": "@jupyter-widgets/controls",
      "model_module_version": "2.0.0",
      "model_name": "HTMLStyleModel",
      "state": {
       "_model_module": "@jupyter-widgets/controls",
       "_model_module_version": "2.0.0",
       "_model_name": "HTMLStyleModel",
       "_view_count": null,
       "_view_module": "@jupyter-widgets/base",
       "_view_module_version": "2.0.0",
       "_view_name": "StyleView",
       "background": null,
       "description_width": "",
       "font_size": null,
       "text_color": null
      }
     },
     "72d812594b544042832cd1430569eb6b": {
      "model_module": "@jupyter-widgets/controls",
      "model_module_version": "2.0.0",
      "model_name": "HTMLStyleModel",
      "state": {
       "_model_module": "@jupyter-widgets/controls",
       "_model_module_version": "2.0.0",
       "_model_name": "HTMLStyleModel",
       "_view_count": null,
       "_view_module": "@jupyter-widgets/base",
       "_view_module_version": "2.0.0",
       "_view_name": "StyleView",
       "background": null,
       "description_width": "",
       "font_size": null,
       "text_color": null
      }
     },
     "72d974df3b534cd4aefe8eab9e0c03c2": {
      "model_module": "@jupyter-widgets/controls",
      "model_module_version": "2.0.0",
      "model_name": "HTMLStyleModel",
      "state": {
       "_model_module": "@jupyter-widgets/controls",
       "_model_module_version": "2.0.0",
       "_model_name": "HTMLStyleModel",
       "_view_count": null,
       "_view_module": "@jupyter-widgets/base",
       "_view_module_version": "2.0.0",
       "_view_name": "StyleView",
       "background": null,
       "description_width": "",
       "font_size": null,
       "text_color": null
      }
     },
     "7308a4b5ca304f3a9c0bc9f5b6af09e3": {
      "model_module": "@jupyter-widgets/base",
      "model_module_version": "2.0.0",
      "model_name": "LayoutModel",
      "state": {
       "_model_module": "@jupyter-widgets/base",
       "_model_module_version": "2.0.0",
       "_model_name": "LayoutModel",
       "_view_count": null,
       "_view_module": "@jupyter-widgets/base",
       "_view_module_version": "2.0.0",
       "_view_name": "LayoutView",
       "align_content": null,
       "align_items": null,
       "align_self": null,
       "border_bottom": null,
       "border_left": null,
       "border_right": null,
       "border_top": null,
       "bottom": null,
       "display": null,
       "flex": null,
       "flex_flow": null,
       "grid_area": null,
       "grid_auto_columns": null,
       "grid_auto_flow": null,
       "grid_auto_rows": null,
       "grid_column": null,
       "grid_gap": null,
       "grid_row": null,
       "grid_template_areas": null,
       "grid_template_columns": null,
       "grid_template_rows": null,
       "height": null,
       "justify_content": null,
       "justify_items": null,
       "left": null,
       "margin": null,
       "max_height": null,
       "max_width": null,
       "min_height": null,
       "min_width": null,
       "object_fit": null,
       "object_position": null,
       "order": null,
       "overflow": null,
       "padding": null,
       "right": null,
       "top": null,
       "visibility": null,
       "width": null
      }
     },
     "7897bf7899a147b5a0e0db98b7f6885e": {
      "model_module": "@jupyter-widgets/controls",
      "model_module_version": "2.0.0",
      "model_name": "HTMLStyleModel",
      "state": {
       "_model_module": "@jupyter-widgets/controls",
       "_model_module_version": "2.0.0",
       "_model_name": "HTMLStyleModel",
       "_view_count": null,
       "_view_module": "@jupyter-widgets/base",
       "_view_module_version": "2.0.0",
       "_view_name": "StyleView",
       "background": null,
       "description_width": "",
       "font_size": null,
       "text_color": null
      }
     },
     "7a16b376b575442a990e92fb8e8793c6": {
      "model_module": "@jupyter-widgets/controls",
      "model_module_version": "2.0.0",
      "model_name": "HTMLModel",
      "state": {
       "_dom_classes": [],
       "_model_module": "@jupyter-widgets/controls",
       "_model_module_version": "2.0.0",
       "_model_name": "HTMLModel",
       "_view_count": null,
       "_view_module": "@jupyter-widgets/controls",
       "_view_module_version": "2.0.0",
       "_view_name": "HTMLView",
       "description": "",
       "description_allow_html": false,
       "layout": "IPY_MODEL_68d2061191044d4a8ecf1abf3b2e1afe",
       "placeholder": "​",
       "style": "IPY_MODEL_46e23e2c91904cd88e6db681bdecdf99",
       "tabbable": null,
       "tooltip": null,
       "value": "Map: 100%"
      }
     },
     "7afdc9a6e71d4718911537b5565d2d71": {
      "model_module": "@jupyter-widgets/base",
      "model_module_version": "2.0.0",
      "model_name": "LayoutModel",
      "state": {
       "_model_module": "@jupyter-widgets/base",
       "_model_module_version": "2.0.0",
       "_model_name": "LayoutModel",
       "_view_count": null,
       "_view_module": "@jupyter-widgets/base",
       "_view_module_version": "2.0.0",
       "_view_name": "LayoutView",
       "align_content": null,
       "align_items": null,
       "align_self": null,
       "border_bottom": null,
       "border_left": null,
       "border_right": null,
       "border_top": null,
       "bottom": null,
       "display": null,
       "flex": null,
       "flex_flow": null,
       "grid_area": null,
       "grid_auto_columns": null,
       "grid_auto_flow": null,
       "grid_auto_rows": null,
       "grid_column": null,
       "grid_gap": null,
       "grid_row": null,
       "grid_template_areas": null,
       "grid_template_columns": null,
       "grid_template_rows": null,
       "height": null,
       "justify_content": null,
       "justify_items": null,
       "left": null,
       "margin": null,
       "max_height": null,
       "max_width": null,
       "min_height": null,
       "min_width": null,
       "object_fit": null,
       "object_position": null,
       "order": null,
       "overflow": null,
       "padding": null,
       "right": null,
       "top": null,
       "visibility": null,
       "width": null
      }
     },
     "7c9d0abd70274a0080c7eaaaa1613b9c": {
      "model_module": "@jupyter-widgets/controls",
      "model_module_version": "2.0.0",
      "model_name": "HTMLStyleModel",
      "state": {
       "_model_module": "@jupyter-widgets/controls",
       "_model_module_version": "2.0.0",
       "_model_name": "HTMLStyleModel",
       "_view_count": null,
       "_view_module": "@jupyter-widgets/base",
       "_view_module_version": "2.0.0",
       "_view_name": "StyleView",
       "background": null,
       "description_width": "",
       "font_size": null,
       "text_color": null
      }
     },
     "7cfda6603e3c4ff7ae9647018df1d4d5": {
      "model_module": "@jupyter-widgets/controls",
      "model_module_version": "2.0.0",
      "model_name": "HTMLStyleModel",
      "state": {
       "_model_module": "@jupyter-widgets/controls",
       "_model_module_version": "2.0.0",
       "_model_name": "HTMLStyleModel",
       "_view_count": null,
       "_view_module": "@jupyter-widgets/base",
       "_view_module_version": "2.0.0",
       "_view_name": "StyleView",
       "background": null,
       "description_width": "",
       "font_size": null,
       "text_color": null
      }
     },
     "976ef519edb04151bb359671d9359472": {
      "model_module": "@jupyter-widgets/controls",
      "model_module_version": "2.0.0",
      "model_name": "ProgressStyleModel",
      "state": {
       "_model_module": "@jupyter-widgets/controls",
       "_model_module_version": "2.0.0",
       "_model_name": "ProgressStyleModel",
       "_view_count": null,
       "_view_module": "@jupyter-widgets/base",
       "_view_module_version": "2.0.0",
       "_view_name": "StyleView",
       "bar_color": null,
       "description_width": ""
      }
     },
     "99024883869c49bb9176681d25ec059d": {
      "model_module": "@jupyter-widgets/base",
      "model_module_version": "2.0.0",
      "model_name": "LayoutModel",
      "state": {
       "_model_module": "@jupyter-widgets/base",
       "_model_module_version": "2.0.0",
       "_model_name": "LayoutModel",
       "_view_count": null,
       "_view_module": "@jupyter-widgets/base",
       "_view_module_version": "2.0.0",
       "_view_name": "LayoutView",
       "align_content": null,
       "align_items": null,
       "align_self": null,
       "border_bottom": null,
       "border_left": null,
       "border_right": null,
       "border_top": null,
       "bottom": null,
       "display": null,
       "flex": null,
       "flex_flow": null,
       "grid_area": null,
       "grid_auto_columns": null,
       "grid_auto_flow": null,
       "grid_auto_rows": null,
       "grid_column": null,
       "grid_gap": null,
       "grid_row": null,
       "grid_template_areas": null,
       "grid_template_columns": null,
       "grid_template_rows": null,
       "height": null,
       "justify_content": null,
       "justify_items": null,
       "left": null,
       "margin": null,
       "max_height": null,
       "max_width": null,
       "min_height": null,
       "min_width": null,
       "object_fit": null,
       "object_position": null,
       "order": null,
       "overflow": null,
       "padding": null,
       "right": null,
       "top": null,
       "visibility": null,
       "width": null
      }
     },
     "9de7971a818541968eda12d40819b3d8": {
      "model_module": "@jupyter-widgets/controls",
      "model_module_version": "2.0.0",
      "model_name": "FloatProgressModel",
      "state": {
       "_dom_classes": [],
       "_model_module": "@jupyter-widgets/controls",
       "_model_module_version": "2.0.0",
       "_model_name": "FloatProgressModel",
       "_view_count": null,
       "_view_module": "@jupyter-widgets/controls",
       "_view_module_version": "2.0.0",
       "_view_name": "ProgressView",
       "bar_style": "success",
       "description": "",
       "description_allow_html": false,
       "layout": "IPY_MODEL_04e2bb13969b4967a21a9106b7970a2c",
       "max": 2.0,
       "min": 0.0,
       "orientation": "horizontal",
       "style": "IPY_MODEL_d999afea3f6944aab27514d2e59ef9ee",
       "tabbable": null,
       "tooltip": null,
       "value": 2.0
      }
     },
     "9e132aa695bb43ad87b59c851d461cca": {
      "model_module": "@jupyter-widgets/controls",
      "model_module_version": "2.0.0",
      "model_name": "HTMLModel",
      "state": {
       "_dom_classes": [],
       "_model_module": "@jupyter-widgets/controls",
       "_model_module_version": "2.0.0",
       "_model_name": "HTMLModel",
       "_view_count": null,
       "_view_module": "@jupyter-widgets/controls",
       "_view_module_version": "2.0.0",
       "_view_name": "HTMLView",
       "description": "",
       "description_allow_html": false,
       "layout": "IPY_MODEL_075acc906b894d69bf62906dac88183f",
       "placeholder": "​",
       "style": "IPY_MODEL_72d812594b544042832cd1430569eb6b",
       "tabbable": null,
       "tooltip": null,
       "value": " 2/2 [00:03&lt;00:00,  1.61s/it]"
      }
     },
     "a1253dc4cdc54a06ae686cb350c2fabe": {
      "model_module": "@jupyter-widgets/controls",
      "model_module_version": "2.0.0",
      "model_name": "HBoxModel",
      "state": {
       "_dom_classes": [],
       "_model_module": "@jupyter-widgets/controls",
       "_model_module_version": "2.0.0",
       "_model_name": "HBoxModel",
       "_view_count": null,
       "_view_module": "@jupyter-widgets/controls",
       "_view_module_version": "2.0.0",
       "_view_name": "HBoxView",
       "box_style": "",
       "children": [
        "IPY_MODEL_7a16b376b575442a990e92fb8e8793c6",
        "IPY_MODEL_e73efd23405243429a32aab577270b8c",
        "IPY_MODEL_fc5c82e73f2e416690d42ba2f514bc4b"
       ],
       "layout": "IPY_MODEL_2992e22c3b32485d98460e14e1fd4473",
       "tabbable": null,
       "tooltip": null
      }
     },
     "a2f28993076b4baea5045d0e9735b85f": {
      "model_module": "@jupyter-widgets/base",
      "model_module_version": "2.0.0",
      "model_name": "LayoutModel",
      "state": {
       "_model_module": "@jupyter-widgets/base",
       "_model_module_version": "2.0.0",
       "_model_name": "LayoutModel",
       "_view_count": null,
       "_view_module": "@jupyter-widgets/base",
       "_view_module_version": "2.0.0",
       "_view_name": "LayoutView",
       "align_content": null,
       "align_items": null,
       "align_self": null,
       "border_bottom": null,
       "border_left": null,
       "border_right": null,
       "border_top": null,
       "bottom": null,
       "display": null,
       "flex": null,
       "flex_flow": null,
       "grid_area": null,
       "grid_auto_columns": null,
       "grid_auto_flow": null,
       "grid_auto_rows": null,
       "grid_column": null,
       "grid_gap": null,
       "grid_row": null,
       "grid_template_areas": null,
       "grid_template_columns": null,
       "grid_template_rows": null,
       "height": null,
       "justify_content": null,
       "justify_items": null,
       "left": null,
       "margin": null,
       "max_height": null,
       "max_width": null,
       "min_height": null,
       "min_width": null,
       "object_fit": null,
       "object_position": null,
       "order": null,
       "overflow": null,
       "padding": null,
       "right": null,
       "top": null,
       "visibility": null,
       "width": null
      }
     },
     "c52bdd05ffb3444e91c25bbc4c85ee32": {
      "model_module": "@jupyter-widgets/base",
      "model_module_version": "2.0.0",
      "model_name": "LayoutModel",
      "state": {
       "_model_module": "@jupyter-widgets/base",
       "_model_module_version": "2.0.0",
       "_model_name": "LayoutModel",
       "_view_count": null,
       "_view_module": "@jupyter-widgets/base",
       "_view_module_version": "2.0.0",
       "_view_name": "LayoutView",
       "align_content": null,
       "align_items": null,
       "align_self": null,
       "border_bottom": null,
       "border_left": null,
       "border_right": null,
       "border_top": null,
       "bottom": null,
       "display": null,
       "flex": null,
       "flex_flow": null,
       "grid_area": null,
       "grid_auto_columns": null,
       "grid_auto_flow": null,
       "grid_auto_rows": null,
       "grid_column": null,
       "grid_gap": null,
       "grid_row": null,
       "grid_template_areas": null,
       "grid_template_columns": null,
       "grid_template_rows": null,
       "height": null,
       "justify_content": null,
       "justify_items": null,
       "left": null,
       "margin": null,
       "max_height": null,
       "max_width": null,
       "min_height": null,
       "min_width": null,
       "object_fit": null,
       "object_position": null,
       "order": null,
       "overflow": null,
       "padding": null,
       "right": null,
       "top": null,
       "visibility": null,
       "width": null
      }
     },
     "c6351b3c93bd453e9c867363fd3d36c6": {
      "model_module": "@jupyter-widgets/base",
      "model_module_version": "2.0.0",
      "model_name": "LayoutModel",
      "state": {
       "_model_module": "@jupyter-widgets/base",
       "_model_module_version": "2.0.0",
       "_model_name": "LayoutModel",
       "_view_count": null,
       "_view_module": "@jupyter-widgets/base",
       "_view_module_version": "2.0.0",
       "_view_name": "LayoutView",
       "align_content": null,
       "align_items": null,
       "align_self": null,
       "border_bottom": null,
       "border_left": null,
       "border_right": null,
       "border_top": null,
       "bottom": null,
       "display": null,
       "flex": null,
       "flex_flow": null,
       "grid_area": null,
       "grid_auto_columns": null,
       "grid_auto_flow": null,
       "grid_auto_rows": null,
       "grid_column": null,
       "grid_gap": null,
       "grid_row": null,
       "grid_template_areas": null,
       "grid_template_columns": null,
       "grid_template_rows": null,
       "height": null,
       "justify_content": null,
       "justify_items": null,
       "left": null,
       "margin": null,
       "max_height": null,
       "max_width": null,
       "min_height": null,
       "min_width": null,
       "object_fit": null,
       "object_position": null,
       "order": null,
       "overflow": null,
       "padding": null,
       "right": null,
       "top": null,
       "visibility": null,
       "width": null
      }
     },
     "c87029de6c7b46fa84e29ea072d9dbb6": {
      "model_module": "@jupyter-widgets/base",
      "model_module_version": "2.0.0",
      "model_name": "LayoutModel",
      "state": {
       "_model_module": "@jupyter-widgets/base",
       "_model_module_version": "2.0.0",
       "_model_name": "LayoutModel",
       "_view_count": null,
       "_view_module": "@jupyter-widgets/base",
       "_view_module_version": "2.0.0",
       "_view_name": "LayoutView",
       "align_content": null,
       "align_items": null,
       "align_self": null,
       "border_bottom": null,
       "border_left": null,
       "border_right": null,
       "border_top": null,
       "bottom": null,
       "display": null,
       "flex": null,
       "flex_flow": null,
       "grid_area": null,
       "grid_auto_columns": null,
       "grid_auto_flow": null,
       "grid_auto_rows": null,
       "grid_column": null,
       "grid_gap": null,
       "grid_row": null,
       "grid_template_areas": null,
       "grid_template_columns": null,
       "grid_template_rows": null,
       "height": null,
       "justify_content": null,
       "justify_items": null,
       "left": null,
       "margin": null,
       "max_height": null,
       "max_width": null,
       "min_height": null,
       "min_width": null,
       "object_fit": null,
       "object_position": null,
       "order": null,
       "overflow": null,
       "padding": null,
       "right": null,
       "top": null,
       "visibility": null,
       "width": null
      }
     },
     "ca7f387c9830413fbae7cf8029e9f48f": {
      "model_module": "@jupyter-widgets/base",
      "model_module_version": "2.0.0",
      "model_name": "LayoutModel",
      "state": {
       "_model_module": "@jupyter-widgets/base",
       "_model_module_version": "2.0.0",
       "_model_name": "LayoutModel",
       "_view_count": null,
       "_view_module": "@jupyter-widgets/base",
       "_view_module_version": "2.0.0",
       "_view_name": "LayoutView",
       "align_content": null,
       "align_items": null,
       "align_self": null,
       "border_bottom": null,
       "border_left": null,
       "border_right": null,
       "border_top": null,
       "bottom": null,
       "display": null,
       "flex": null,
       "flex_flow": null,
       "grid_area": null,
       "grid_auto_columns": null,
       "grid_auto_flow": null,
       "grid_auto_rows": null,
       "grid_column": null,
       "grid_gap": null,
       "grid_row": null,
       "grid_template_areas": null,
       "grid_template_columns": null,
       "grid_template_rows": null,
       "height": null,
       "justify_content": null,
       "justify_items": null,
       "left": null,
       "margin": null,
       "max_height": null,
       "max_width": null,
       "min_height": null,
       "min_width": null,
       "object_fit": null,
       "object_position": null,
       "order": null,
       "overflow": null,
       "padding": null,
       "right": null,
       "top": null,
       "visibility": null,
       "width": null
      }
     },
     "d999afea3f6944aab27514d2e59ef9ee": {
      "model_module": "@jupyter-widgets/controls",
      "model_module_version": "2.0.0",
      "model_name": "ProgressStyleModel",
      "state": {
       "_model_module": "@jupyter-widgets/controls",
       "_model_module_version": "2.0.0",
       "_model_name": "ProgressStyleModel",
       "_view_count": null,
       "_view_module": "@jupyter-widgets/base",
       "_view_module_version": "2.0.0",
       "_view_name": "StyleView",
       "bar_color": null,
       "description_width": ""
      }
     },
     "e73efd23405243429a32aab577270b8c": {
      "model_module": "@jupyter-widgets/controls",
      "model_module_version": "2.0.0",
      "model_name": "FloatProgressModel",
      "state": {
       "_dom_classes": [],
       "_model_module": "@jupyter-widgets/controls",
       "_model_module_version": "2.0.0",
       "_model_name": "FloatProgressModel",
       "_view_count": null,
       "_view_module": "@jupyter-widgets/controls",
       "_view_module_version": "2.0.0",
       "_view_name": "ProgressView",
       "bar_style": "success",
       "description": "",
       "description_allow_html": false,
       "layout": "IPY_MODEL_a2f28993076b4baea5045d0e9735b85f",
       "max": 64.0,
       "min": 0.0,
       "orientation": "horizontal",
       "style": "IPY_MODEL_976ef519edb04151bb359671d9359472",
       "tabbable": null,
       "tooltip": null,
       "value": 64.0
      }
     },
     "e94fed3ec03b4e3eb0f9b2ae3a1d48ef": {
      "model_module": "@jupyter-widgets/controls",
      "model_module_version": "2.0.0",
      "model_name": "FloatProgressModel",
      "state": {
       "_dom_classes": [],
       "_model_module": "@jupyter-widgets/controls",
       "_model_module_version": "2.0.0",
       "_model_name": "FloatProgressModel",
       "_view_count": null,
       "_view_module": "@jupyter-widgets/controls",
       "_view_module_version": "2.0.0",
       "_view_name": "ProgressView",
       "bar_style": "success",
       "description": "",
       "description_allow_html": false,
       "layout": "IPY_MODEL_99024883869c49bb9176681d25ec059d",
       "max": 2.0,
       "min": 0.0,
       "orientation": "horizontal",
       "style": "IPY_MODEL_39c7ce0ebafd4eb08a86a83f56ac371c",
       "tabbable": null,
       "tooltip": null,
       "value": 2.0
      }
     },
     "ee7544a40d114d279127ed29282cc5e0": {
      "model_module": "@jupyter-widgets/controls",
      "model_module_version": "2.0.0",
      "model_name": "HTMLModel",
      "state": {
       "_dom_classes": [],
       "_model_module": "@jupyter-widgets/controls",
       "_model_module_version": "2.0.0",
       "_model_name": "HTMLModel",
       "_view_count": null,
       "_view_module": "@jupyter-widgets/controls",
       "_view_module_version": "2.0.0",
       "_view_name": "HTMLView",
       "description": "",
       "description_allow_html": false,
       "layout": "IPY_MODEL_336cbf4332c04731991fff4731c23daa",
       "placeholder": "​",
       "style": "IPY_MODEL_7cfda6603e3c4ff7ae9647018df1d4d5",
       "tabbable": null,
       "tooltip": null,
       "value": "Loading checkpoint shards: 100%"
      }
     },
     "ef2431d53fd0499da91e6973fa694ccb": {
      "model_module": "@jupyter-widgets/controls",
      "model_module_version": "2.0.0",
      "model_name": "HTMLModel",
      "state": {
       "_dom_classes": [],
       "_model_module": "@jupyter-widgets/controls",
       "_model_module_version": "2.0.0",
       "_model_name": "HTMLModel",
       "_view_count": null,
       "_view_module": "@jupyter-widgets/controls",
       "_view_module_version": "2.0.0",
       "_view_name": "HTMLView",
       "description": "",
       "description_allow_html": false,
       "layout": "IPY_MODEL_02035e88070b4c51a1db7e19ac3e3def",
       "placeholder": "​",
       "style": "IPY_MODEL_7897bf7899a147b5a0e0db98b7f6885e",
       "tabbable": null,
       "tooltip": null,
       "value": " 64/64 [00:00&lt;00:00, 1487.44 examples/s]"
      }
     },
     "efc4001525934dcca4201c432fc8b590": {
      "model_module": "@jupyter-widgets/controls",
      "model_module_version": "2.0.0",
      "model_name": "HBoxModel",
      "state": {
       "_dom_classes": [],
       "_model_module": "@jupyter-widgets/controls",
       "_model_module_version": "2.0.0",
       "_model_name": "HBoxModel",
       "_view_count": null,
       "_view_module": "@jupyter-widgets/controls",
       "_view_module_version": "2.0.0",
       "_view_name": "HBoxView",
       "box_style": "",
       "children": [
        "IPY_MODEL_ee7544a40d114d279127ed29282cc5e0",
        "IPY_MODEL_e94fed3ec03b4e3eb0f9b2ae3a1d48ef",
        "IPY_MODEL_27b4c6a440954608bc4c1fce6873e514"
       ],
       "layout": "IPY_MODEL_c87029de6c7b46fa84e29ea072d9dbb6",
       "tabbable": null,
       "tooltip": null
      }
     },
     "fc5c82e73f2e416690d42ba2f514bc4b": {
      "model_module": "@jupyter-widgets/controls",
      "model_module_version": "2.0.0",
      "model_name": "HTMLModel",
      "state": {
       "_dom_classes": [],
       "_model_module": "@jupyter-widgets/controls",
       "_model_module_version": "2.0.0",
       "_model_name": "HTMLModel",
       "_view_count": null,
       "_view_module": "@jupyter-widgets/controls",
       "_view_module_version": "2.0.0",
       "_view_name": "HTMLView",
       "description": "",
       "description_allow_html": false,
       "layout": "IPY_MODEL_22a9ab1e1d834c929ad0b9ab73c7a44f",
       "placeholder": "​",
       "style": "IPY_MODEL_3a998751d49c42ce970e6a2877ce75c9",
       "tabbable": null,
       "tooltip": null,
       "value": " 64/64 [00:00&lt;00:00, 1525.95 examples/s]"
      }
     }
    },
    "version_major": 2,
    "version_minor": 0
   }
  }
 },
 "nbformat": 4,
 "nbformat_minor": 5
}